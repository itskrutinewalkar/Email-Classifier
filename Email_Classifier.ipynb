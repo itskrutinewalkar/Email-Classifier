{
  "metadata": {
    "kernelspec": {
      "language": "python",
      "display_name": "Python 3",
      "name": "python3"
    },
    "language_info": {
      "name": "python",
      "version": "3.10.13",
      "mimetype": "text/x-python",
      "codemirror_mode": {
        "name": "ipython",
        "version": 3
      },
      "pygments_lexer": "ipython3",
      "nbconvert_exporter": "python",
      "file_extension": ".py"
    },
    "kaggle": {
      "accelerator": "none",
      "dataSources": [
        {
          "sourceId": 6897944,
          "sourceType": "datasetVersion",
          "datasetId": 3962399
        }
      ],
      "dockerImageVersionId": 30746,
      "isInternetEnabled": false,
      "language": "python",
      "sourceType": "notebook",
      "isGpuEnabled": false
    },
    "colab": {
      "provenance": [],
      "include_colab_link": true
    }
  },
  "nbformat_minor": 0,
  "nbformat": 4,
  "cells": [
    {
      "cell_type": "markdown",
      "metadata": {
        "id": "view-in-github",
        "colab_type": "text"
      },
      "source": [
        "<a href=\"https://colab.research.google.com/github/itskrutinewalkar/Email-Classifier/blob/main/Email_Classifier.ipynb\" target=\"_parent\"><img src=\"https://colab.research.google.com/assets/colab-badge.svg\" alt=\"Open In Colab\"/></a>"
      ]
    },
    {
      "cell_type": "markdown",
      "source": [
        "# **Email_Classifier**"
      ],
      "metadata": {
        "id": "gaHc2GhEq88d"
      }
    },
    {
      "cell_type": "code",
      "source": [
        "\n",
        "import numpy as np\n",
        "import pandas as pd\n",
        "from sklearn.feature_extraction.text import TfidfVectorizer\n",
        "from sklearn.model_selection import train_test_split\n",
        "from sklearn.linear_model import LogisticRegression\n",
        "from sklearn.metrics import accuracy_score\n"
      ],
      "metadata": {
        "_uuid": "8f2839f25d086af736a60e9eeb907d3b93b6e0e5",
        "_cell_guid": "b1076dfc-b9ad-4769-8c92-a6c4dae69d19",
        "execution": {
          "iopub.status.busy": "2024-07-14T10:19:34.551749Z",
          "iopub.execute_input": "2024-07-14T10:19:34.552165Z",
          "iopub.status.idle": "2024-07-14T10:19:34.587371Z",
          "shell.execute_reply.started": "2024-07-14T10:19:34.552132Z",
          "shell.execute_reply": "2024-07-14T10:19:34.583526Z"
        },
        "trusted": true,
        "id": "sVuxI5YFwc10"
      },
      "execution_count": 1,
      "outputs": []
    },
    {
      "cell_type": "code",
      "source": [
        "!mkdir -p ~/.kaggle\n",
        "!cp kaggle.json ~/.kaggle/\n",
        "!chmod 600 ~/.kaggle/kaggle.json\n",
        "!ls ~/.kaggle\n",
        "!kaggle datasets download -d purusinghvi/email-spam-classification-dataset"
      ],
      "metadata": {
        "id": "DPXkyAwfydqf",
        "outputId": "8115a01f-1464-4cff-f366-8406f53eae21",
        "colab": {
          "base_uri": "https://localhost:8080/"
        }
      },
      "execution_count": 2,
      "outputs": [
        {
          "output_type": "stream",
          "name": "stdout",
          "text": [
            "cp: cannot stat 'kaggle.json': No such file or directory\n",
            "chmod: cannot access '/root/.kaggle/kaggle.json': No such file or directory\n",
            "Dataset URL: https://www.kaggle.com/datasets/purusinghvi/email-spam-classification-dataset\n",
            "License(s): MIT\n",
            "Downloading email-spam-classification-dataset.zip to /content\n",
            " 77% 33.0M/43.0M [00:00<00:00, 88.3MB/s]\n",
            "100% 43.0M/43.0M [00:00<00:00, 89.6MB/s]\n"
          ]
        }
      ]
    },
    {
      "cell_type": "markdown",
      "source": [
        "## **Create a Pandas DataFrame**"
      ],
      "metadata": {
        "id": "WxSSkTAHwc11"
      }
    },
    {
      "cell_type": "code",
      "source": [
        "df = pd.read_csv('/content/email-spam-classification-dataset.zip')\n",
        "df.shape"
      ],
      "metadata": {
        "execution": {
          "iopub.status.busy": "2024-07-14T10:19:34.588594Z",
          "iopub.status.idle": "2024-07-14T10:19:34.589039Z",
          "shell.execute_reply.started": "2024-07-14T10:19:34.588817Z",
          "shell.execute_reply": "2024-07-14T10:19:34.588834Z"
        },
        "trusted": true,
        "id": "Vs_lj-Kkwc12",
        "outputId": "03713ba1-655d-40d9-d58b-a734d6b1083d",
        "colab": {
          "base_uri": "https://localhost:8080/"
        }
      },
      "execution_count": 3,
      "outputs": [
        {
          "output_type": "execute_result",
          "data": {
            "text/plain": [
              "(83448, 2)"
            ]
          },
          "metadata": {},
          "execution_count": 3
        }
      ]
    },
    {
      "cell_type": "markdown",
      "source": [
        "## **Separating Data for Analysis**"
      ],
      "metadata": {
        "id": "Bbd4R2E8wc12"
      }
    },
    {
      "cell_type": "code",
      "source": [
        "#check the number of null values and columns\n",
        "df.isnull().sum()"
      ],
      "metadata": {
        "execution": {
          "iopub.status.busy": "2024-07-14T10:19:34.590517Z",
          "iopub.status.idle": "2024-07-14T10:19:34.591033Z",
          "shell.execute_reply.started": "2024-07-14T10:19:34.59078Z",
          "shell.execute_reply": "2024-07-14T10:19:34.590801Z"
        },
        "trusted": true,
        "id": "cIZJGr_nwc12",
        "outputId": "4cbf6387-552b-472c-a3b8-4a5d401c86c5",
        "colab": {
          "base_uri": "https://localhost:8080/"
        }
      },
      "execution_count": 4,
      "outputs": [
        {
          "output_type": "execute_result",
          "data": {
            "text/plain": [
              "label    0\n",
              "text     0\n",
              "dtype: int64"
            ]
          },
          "metadata": {},
          "execution_count": 4
        }
      ]
    },
    {
      "cell_type": "code",
      "source": [
        "#check the data availabel for spam and ham\n",
        "ham = df[df.label == 0]\n",
        "spam = df[df.label == 1]\n",
        "ham.shape"
      ],
      "metadata": {
        "execution": {
          "iopub.status.busy": "2024-07-14T10:19:34.593277Z",
          "iopub.status.idle": "2024-07-14T10:19:34.593706Z",
          "shell.execute_reply.started": "2024-07-14T10:19:34.593516Z",
          "shell.execute_reply": "2024-07-14T10:19:34.593534Z"
        },
        "trusted": true,
        "id": "rWRBLqnjwc12",
        "outputId": "6c1be95d-321d-4b25-d899-70f03e1e9a48",
        "colab": {
          "base_uri": "https://localhost:8080/"
        }
      },
      "execution_count": 5,
      "outputs": [
        {
          "output_type": "execute_result",
          "data": {
            "text/plain": [
              "(39538, 2)"
            ]
          },
          "metadata": {},
          "execution_count": 5
        }
      ]
    },
    {
      "cell_type": "code",
      "source": [
        "spam.shape"
      ],
      "metadata": {
        "execution": {
          "iopub.status.busy": "2024-07-14T10:19:34.595239Z",
          "iopub.status.idle": "2024-07-14T10:19:34.595703Z",
          "shell.execute_reply.started": "2024-07-14T10:19:34.595498Z",
          "shell.execute_reply": "2024-07-14T10:19:34.595517Z"
        },
        "trusted": true,
        "id": "CVdngigbwc13",
        "outputId": "f31a3fe8-8b87-48e7-80c8-1f7c66cb471c",
        "colab": {
          "base_uri": "https://localhost:8080/"
        }
      },
      "execution_count": 6,
      "outputs": [
        {
          "output_type": "execute_result",
          "data": {
            "text/plain": [
              "(43910, 2)"
            ]
          },
          "metadata": {},
          "execution_count": 6
        }
      ]
    },
    {
      "cell_type": "markdown",
      "source": [
        "## **Under Sampling Spam Data for better predictions**"
      ],
      "metadata": {
        "id": "5LSUBCB5wc13"
      }
    },
    {
      "cell_type": "code",
      "source": [
        "spam_sample = spam.sample(n=39537)\n",
        "spam_sample"
      ],
      "metadata": {
        "execution": {
          "iopub.status.busy": "2024-07-14T10:19:34.597394Z",
          "iopub.status.idle": "2024-07-14T10:19:34.597811Z",
          "shell.execute_reply.started": "2024-07-14T10:19:34.597627Z",
          "shell.execute_reply": "2024-07-14T10:19:34.597644Z"
        },
        "trusted": true,
        "id": "jsL5AKbrwc13",
        "outputId": "2d9c6d90-8bfd-4c12-bd0a-ae8b9e9f2efa",
        "colab": {
          "base_uri": "https://localhost:8080/",
          "height": 423
        }
      },
      "execution_count": 7,
      "outputs": [
        {
          "output_type": "execute_result",
          "data": {
            "text/plain": [
              "       label                                               text\n",
              "64452      1  on our behalf we can recommend you the canadia...\n",
              "36429      1  we present you a us licensed online pharmescap...\n",
              "49886      1  would you like to discover the secrets slot ow...\n",
              "77219      1  panda software ranks famous people most often ...\n",
              "10768      1  did you know you can refinance up to escapenum...\n",
              "...      ...                                                ...\n",
              "27862      1   i aescapenumber aescapenumberthe house work o...\n",
              "15046      1  to say adios muchachos head on over to go to :...\n",
              "17298      1  downloadable software ds is a fast paced compa...\n",
              "29267      1  announces building nymex existing perkins set ...\n",
              "63967      1  highest qualities replika watches now escapenu...\n",
              "\n",
              "[39537 rows x 2 columns]"
            ],
            "text/html": [
              "\n",
              "  <div id=\"df-a7842eaa-49f1-41a5-baf7-8805fc83ed22\" class=\"colab-df-container\">\n",
              "    <div>\n",
              "<style scoped>\n",
              "    .dataframe tbody tr th:only-of-type {\n",
              "        vertical-align: middle;\n",
              "    }\n",
              "\n",
              "    .dataframe tbody tr th {\n",
              "        vertical-align: top;\n",
              "    }\n",
              "\n",
              "    .dataframe thead th {\n",
              "        text-align: right;\n",
              "    }\n",
              "</style>\n",
              "<table border=\"1\" class=\"dataframe\">\n",
              "  <thead>\n",
              "    <tr style=\"text-align: right;\">\n",
              "      <th></th>\n",
              "      <th>label</th>\n",
              "      <th>text</th>\n",
              "    </tr>\n",
              "  </thead>\n",
              "  <tbody>\n",
              "    <tr>\n",
              "      <th>64452</th>\n",
              "      <td>1</td>\n",
              "      <td>on our behalf we can recommend you the canadia...</td>\n",
              "    </tr>\n",
              "    <tr>\n",
              "      <th>36429</th>\n",
              "      <td>1</td>\n",
              "      <td>we present you a us licensed online pharmescap...</td>\n",
              "    </tr>\n",
              "    <tr>\n",
              "      <th>49886</th>\n",
              "      <td>1</td>\n",
              "      <td>would you like to discover the secrets slot ow...</td>\n",
              "    </tr>\n",
              "    <tr>\n",
              "      <th>77219</th>\n",
              "      <td>1</td>\n",
              "      <td>panda software ranks famous people most often ...</td>\n",
              "    </tr>\n",
              "    <tr>\n",
              "      <th>10768</th>\n",
              "      <td>1</td>\n",
              "      <td>did you know you can refinance up to escapenum...</td>\n",
              "    </tr>\n",
              "    <tr>\n",
              "      <th>...</th>\n",
              "      <td>...</td>\n",
              "      <td>...</td>\n",
              "    </tr>\n",
              "    <tr>\n",
              "      <th>27862</th>\n",
              "      <td>1</td>\n",
              "      <td>i aescapenumber aescapenumberthe house work o...</td>\n",
              "    </tr>\n",
              "    <tr>\n",
              "      <th>15046</th>\n",
              "      <td>1</td>\n",
              "      <td>to say adios muchachos head on over to go to :...</td>\n",
              "    </tr>\n",
              "    <tr>\n",
              "      <th>17298</th>\n",
              "      <td>1</td>\n",
              "      <td>downloadable software ds is a fast paced compa...</td>\n",
              "    </tr>\n",
              "    <tr>\n",
              "      <th>29267</th>\n",
              "      <td>1</td>\n",
              "      <td>announces building nymex existing perkins set ...</td>\n",
              "    </tr>\n",
              "    <tr>\n",
              "      <th>63967</th>\n",
              "      <td>1</td>\n",
              "      <td>highest qualities replika watches now escapenu...</td>\n",
              "    </tr>\n",
              "  </tbody>\n",
              "</table>\n",
              "<p>39537 rows × 2 columns</p>\n",
              "</div>\n",
              "    <div class=\"colab-df-buttons\">\n",
              "\n",
              "  <div class=\"colab-df-container\">\n",
              "    <button class=\"colab-df-convert\" onclick=\"convertToInteractive('df-a7842eaa-49f1-41a5-baf7-8805fc83ed22')\"\n",
              "            title=\"Convert this dataframe to an interactive table.\"\n",
              "            style=\"display:none;\">\n",
              "\n",
              "  <svg xmlns=\"http://www.w3.org/2000/svg\" height=\"24px\" viewBox=\"0 -960 960 960\">\n",
              "    <path d=\"M120-120v-720h720v720H120Zm60-500h600v-160H180v160Zm220 220h160v-160H400v160Zm0 220h160v-160H400v160ZM180-400h160v-160H180v160Zm440 0h160v-160H620v160ZM180-180h160v-160H180v160Zm440 0h160v-160H620v160Z\"/>\n",
              "  </svg>\n",
              "    </button>\n",
              "\n",
              "  <style>\n",
              "    .colab-df-container {\n",
              "      display:flex;\n",
              "      gap: 12px;\n",
              "    }\n",
              "\n",
              "    .colab-df-convert {\n",
              "      background-color: #E8F0FE;\n",
              "      border: none;\n",
              "      border-radius: 50%;\n",
              "      cursor: pointer;\n",
              "      display: none;\n",
              "      fill: #1967D2;\n",
              "      height: 32px;\n",
              "      padding: 0 0 0 0;\n",
              "      width: 32px;\n",
              "    }\n",
              "\n",
              "    .colab-df-convert:hover {\n",
              "      background-color: #E2EBFA;\n",
              "      box-shadow: 0px 1px 2px rgba(60, 64, 67, 0.3), 0px 1px 3px 1px rgba(60, 64, 67, 0.15);\n",
              "      fill: #174EA6;\n",
              "    }\n",
              "\n",
              "    .colab-df-buttons div {\n",
              "      margin-bottom: 4px;\n",
              "    }\n",
              "\n",
              "    [theme=dark] .colab-df-convert {\n",
              "      background-color: #3B4455;\n",
              "      fill: #D2E3FC;\n",
              "    }\n",
              "\n",
              "    [theme=dark] .colab-df-convert:hover {\n",
              "      background-color: #434B5C;\n",
              "      box-shadow: 0px 1px 3px 1px rgba(0, 0, 0, 0.15);\n",
              "      filter: drop-shadow(0px 1px 2px rgba(0, 0, 0, 0.3));\n",
              "      fill: #FFFFFF;\n",
              "    }\n",
              "  </style>\n",
              "\n",
              "    <script>\n",
              "      const buttonEl =\n",
              "        document.querySelector('#df-a7842eaa-49f1-41a5-baf7-8805fc83ed22 button.colab-df-convert');\n",
              "      buttonEl.style.display =\n",
              "        google.colab.kernel.accessAllowed ? 'block' : 'none';\n",
              "\n",
              "      async function convertToInteractive(key) {\n",
              "        const element = document.querySelector('#df-a7842eaa-49f1-41a5-baf7-8805fc83ed22');\n",
              "        const dataTable =\n",
              "          await google.colab.kernel.invokeFunction('convertToInteractive',\n",
              "                                                    [key], {});\n",
              "        if (!dataTable) return;\n",
              "\n",
              "        const docLinkHtml = 'Like what you see? Visit the ' +\n",
              "          '<a target=\"_blank\" href=https://colab.research.google.com/notebooks/data_table.ipynb>data table notebook</a>'\n",
              "          + ' to learn more about interactive tables.';\n",
              "        element.innerHTML = '';\n",
              "        dataTable['output_type'] = 'display_data';\n",
              "        await google.colab.output.renderOutput(dataTable, element);\n",
              "        const docLink = document.createElement('div');\n",
              "        docLink.innerHTML = docLinkHtml;\n",
              "        element.appendChild(docLink);\n",
              "      }\n",
              "    </script>\n",
              "  </div>\n",
              "\n",
              "\n",
              "<div id=\"df-9715fb99-4cc0-4cf1-ab9f-dc95402862bc\">\n",
              "  <button class=\"colab-df-quickchart\" onclick=\"quickchart('df-9715fb99-4cc0-4cf1-ab9f-dc95402862bc')\"\n",
              "            title=\"Suggest charts\"\n",
              "            style=\"display:none;\">\n",
              "\n",
              "<svg xmlns=\"http://www.w3.org/2000/svg\" height=\"24px\"viewBox=\"0 0 24 24\"\n",
              "     width=\"24px\">\n",
              "    <g>\n",
              "        <path d=\"M19 3H5c-1.1 0-2 .9-2 2v14c0 1.1.9 2 2 2h14c1.1 0 2-.9 2-2V5c0-1.1-.9-2-2-2zM9 17H7v-7h2v7zm4 0h-2V7h2v10zm4 0h-2v-4h2v4z\"/>\n",
              "    </g>\n",
              "</svg>\n",
              "  </button>\n",
              "\n",
              "<style>\n",
              "  .colab-df-quickchart {\n",
              "      --bg-color: #E8F0FE;\n",
              "      --fill-color: #1967D2;\n",
              "      --hover-bg-color: #E2EBFA;\n",
              "      --hover-fill-color: #174EA6;\n",
              "      --disabled-fill-color: #AAA;\n",
              "      --disabled-bg-color: #DDD;\n",
              "  }\n",
              "\n",
              "  [theme=dark] .colab-df-quickchart {\n",
              "      --bg-color: #3B4455;\n",
              "      --fill-color: #D2E3FC;\n",
              "      --hover-bg-color: #434B5C;\n",
              "      --hover-fill-color: #FFFFFF;\n",
              "      --disabled-bg-color: #3B4455;\n",
              "      --disabled-fill-color: #666;\n",
              "  }\n",
              "\n",
              "  .colab-df-quickchart {\n",
              "    background-color: var(--bg-color);\n",
              "    border: none;\n",
              "    border-radius: 50%;\n",
              "    cursor: pointer;\n",
              "    display: none;\n",
              "    fill: var(--fill-color);\n",
              "    height: 32px;\n",
              "    padding: 0;\n",
              "    width: 32px;\n",
              "  }\n",
              "\n",
              "  .colab-df-quickchart:hover {\n",
              "    background-color: var(--hover-bg-color);\n",
              "    box-shadow: 0 1px 2px rgba(60, 64, 67, 0.3), 0 1px 3px 1px rgba(60, 64, 67, 0.15);\n",
              "    fill: var(--button-hover-fill-color);\n",
              "  }\n",
              "\n",
              "  .colab-df-quickchart-complete:disabled,\n",
              "  .colab-df-quickchart-complete:disabled:hover {\n",
              "    background-color: var(--disabled-bg-color);\n",
              "    fill: var(--disabled-fill-color);\n",
              "    box-shadow: none;\n",
              "  }\n",
              "\n",
              "  .colab-df-spinner {\n",
              "    border: 2px solid var(--fill-color);\n",
              "    border-color: transparent;\n",
              "    border-bottom-color: var(--fill-color);\n",
              "    animation:\n",
              "      spin 1s steps(1) infinite;\n",
              "  }\n",
              "\n",
              "  @keyframes spin {\n",
              "    0% {\n",
              "      border-color: transparent;\n",
              "      border-bottom-color: var(--fill-color);\n",
              "      border-left-color: var(--fill-color);\n",
              "    }\n",
              "    20% {\n",
              "      border-color: transparent;\n",
              "      border-left-color: var(--fill-color);\n",
              "      border-top-color: var(--fill-color);\n",
              "    }\n",
              "    30% {\n",
              "      border-color: transparent;\n",
              "      border-left-color: var(--fill-color);\n",
              "      border-top-color: var(--fill-color);\n",
              "      border-right-color: var(--fill-color);\n",
              "    }\n",
              "    40% {\n",
              "      border-color: transparent;\n",
              "      border-right-color: var(--fill-color);\n",
              "      border-top-color: var(--fill-color);\n",
              "    }\n",
              "    60% {\n",
              "      border-color: transparent;\n",
              "      border-right-color: var(--fill-color);\n",
              "    }\n",
              "    80% {\n",
              "      border-color: transparent;\n",
              "      border-right-color: var(--fill-color);\n",
              "      border-bottom-color: var(--fill-color);\n",
              "    }\n",
              "    90% {\n",
              "      border-color: transparent;\n",
              "      border-bottom-color: var(--fill-color);\n",
              "    }\n",
              "  }\n",
              "</style>\n",
              "\n",
              "  <script>\n",
              "    async function quickchart(key) {\n",
              "      const quickchartButtonEl =\n",
              "        document.querySelector('#' + key + ' button');\n",
              "      quickchartButtonEl.disabled = true;  // To prevent multiple clicks.\n",
              "      quickchartButtonEl.classList.add('colab-df-spinner');\n",
              "      try {\n",
              "        const charts = await google.colab.kernel.invokeFunction(\n",
              "            'suggestCharts', [key], {});\n",
              "      } catch (error) {\n",
              "        console.error('Error during call to suggestCharts:', error);\n",
              "      }\n",
              "      quickchartButtonEl.classList.remove('colab-df-spinner');\n",
              "      quickchartButtonEl.classList.add('colab-df-quickchart-complete');\n",
              "    }\n",
              "    (() => {\n",
              "      let quickchartButtonEl =\n",
              "        document.querySelector('#df-9715fb99-4cc0-4cf1-ab9f-dc95402862bc button');\n",
              "      quickchartButtonEl.style.display =\n",
              "        google.colab.kernel.accessAllowed ? 'block' : 'none';\n",
              "    })();\n",
              "  </script>\n",
              "</div>\n",
              "\n",
              "  <div id=\"id_61f85e94-5411-4313-a2df-5887b7222b82\">\n",
              "    <style>\n",
              "      .colab-df-generate {\n",
              "        background-color: #E8F0FE;\n",
              "        border: none;\n",
              "        border-radius: 50%;\n",
              "        cursor: pointer;\n",
              "        display: none;\n",
              "        fill: #1967D2;\n",
              "        height: 32px;\n",
              "        padding: 0 0 0 0;\n",
              "        width: 32px;\n",
              "      }\n",
              "\n",
              "      .colab-df-generate:hover {\n",
              "        background-color: #E2EBFA;\n",
              "        box-shadow: 0px 1px 2px rgba(60, 64, 67, 0.3), 0px 1px 3px 1px rgba(60, 64, 67, 0.15);\n",
              "        fill: #174EA6;\n",
              "      }\n",
              "\n",
              "      [theme=dark] .colab-df-generate {\n",
              "        background-color: #3B4455;\n",
              "        fill: #D2E3FC;\n",
              "      }\n",
              "\n",
              "      [theme=dark] .colab-df-generate:hover {\n",
              "        background-color: #434B5C;\n",
              "        box-shadow: 0px 1px 3px 1px rgba(0, 0, 0, 0.15);\n",
              "        filter: drop-shadow(0px 1px 2px rgba(0, 0, 0, 0.3));\n",
              "        fill: #FFFFFF;\n",
              "      }\n",
              "    </style>\n",
              "    <button class=\"colab-df-generate\" onclick=\"generateWithVariable('spam_sample')\"\n",
              "            title=\"Generate code using this dataframe.\"\n",
              "            style=\"display:none;\">\n",
              "\n",
              "  <svg xmlns=\"http://www.w3.org/2000/svg\" height=\"24px\"viewBox=\"0 0 24 24\"\n",
              "       width=\"24px\">\n",
              "    <path d=\"M7,19H8.4L18.45,9,17,7.55,7,17.6ZM5,21V16.75L18.45,3.32a2,2,0,0,1,2.83,0l1.4,1.43a1.91,1.91,0,0,1,.58,1.4,1.91,1.91,0,0,1-.58,1.4L9.25,21ZM18.45,9,17,7.55Zm-12,3A5.31,5.31,0,0,0,4.9,8.1,5.31,5.31,0,0,0,1,6.5,5.31,5.31,0,0,0,4.9,4.9,5.31,5.31,0,0,0,6.5,1,5.31,5.31,0,0,0,8.1,4.9,5.31,5.31,0,0,0,12,6.5,5.46,5.46,0,0,0,6.5,12Z\"/>\n",
              "  </svg>\n",
              "    </button>\n",
              "    <script>\n",
              "      (() => {\n",
              "      const buttonEl =\n",
              "        document.querySelector('#id_61f85e94-5411-4313-a2df-5887b7222b82 button.colab-df-generate');\n",
              "      buttonEl.style.display =\n",
              "        google.colab.kernel.accessAllowed ? 'block' : 'none';\n",
              "\n",
              "      buttonEl.onclick = () => {\n",
              "        google.colab.notebook.generateWithVariable('spam_sample');\n",
              "      }\n",
              "      })();\n",
              "    </script>\n",
              "  </div>\n",
              "\n",
              "    </div>\n",
              "  </div>\n"
            ],
            "application/vnd.google.colaboratory.intrinsic+json": {
              "type": "dataframe",
              "variable_name": "spam_sample",
              "summary": "{\n  \"name\": \"spam_sample\",\n  \"rows\": 39537,\n  \"fields\": [\n    {\n      \"column\": \"label\",\n      \"properties\": {\n        \"dtype\": \"number\",\n        \"std\": 0,\n        \"min\": 1,\n        \"max\": 1,\n        \"num_unique_values\": 1,\n        \"samples\": [\n          1\n        ],\n        \"semantic_type\": \"\",\n        \"description\": \"\"\n      }\n    },\n    {\n      \"column\": \"text\",\n      \"properties\": {\n        \"dtype\": \"string\",\n        \"num_unique_values\": 39537,\n        \"samples\": [\n          \"copi ob is getting ready to make a run for the top please do not miss this one watch it on thurs may escapenumberth company compliance systems symbol copi price escapenumber escapenumber escapenumber d target escapenumber rating agressive buy you cannot miss copi this one is a great solid addition to your portfolio add it to your radar starting thurs may escapenumberth it went down now it's time for it to reach the skies you sir may say any thing cried mr elton but i must confess th it is not to be conceived that a man of three or four and twenty shou my picture but he has left my picture in bond street the real evils indeed of emma's situation were the power of having r oh not handsome not at all handsome i thought him very plain at fi i know there is such an idea with many people but indeed it is quite mr elton was only too happy harriet listened and emma drew in peace emma's project of forgetting mr elton for a while made her rather sor how was she to bear the change it was true that her friend was going it might be distressing for the moment said she but you seem to there is no necessity for my calling this morning said the young ma mhln maillist mhln mailman eppg com http mailman eppg com mailman listinfo mhln\"\n        ],\n        \"semantic_type\": \"\",\n        \"description\": \"\"\n      }\n    }\n  ]\n}"
            }
          },
          "metadata": {},
          "execution_count": 7
        }
      ]
    },
    {
      "cell_type": "code",
      "source": [
        "# concatenate the ham and spam_sample data to form a new dataframe with even divisions of ham and spam data along row axis=0\n",
        "new_df = pd.concat([ham, spam_sample], axis=0)\n",
        "new_df"
      ],
      "metadata": {
        "execution": {
          "iopub.status.busy": "2024-07-14T10:19:34.599237Z",
          "iopub.status.idle": "2024-07-14T10:19:34.599675Z",
          "shell.execute_reply.started": "2024-07-14T10:19:34.59948Z",
          "shell.execute_reply": "2024-07-14T10:19:34.599502Z"
        },
        "trusted": true,
        "id": "A7TrAlINwc13",
        "outputId": "18b4e5f2-633b-4f1d-e5f4-ad32ae7acd10",
        "colab": {
          "base_uri": "https://localhost:8080/",
          "height": 423
        }
      },
      "execution_count": 8,
      "outputs": [
        {
          "output_type": "execute_result",
          "data": {
            "text/plain": [
              "       label                                               text\n",
              "2          0   computer connection from cnn com wednesday es...\n",
              "4          0  thanks for all your answers guys i know i shou...\n",
              "5          0  larry king live at escapenumber escapenumber p...\n",
              "6          0  michael pobega wrote i'm not sure if it's the ...\n",
              "7          0  hi i have this error tr sample escapenumber es...\n",
              "...      ...                                                ...\n",
              "27862      1   i aescapenumber aescapenumberthe house work o...\n",
              "15046      1  to say adios muchachos head on over to go to :...\n",
              "17298      1  downloadable software ds is a fast paced compa...\n",
              "29267      1  announces building nymex existing perkins set ...\n",
              "63967      1  highest qualities replika watches now escapenu...\n",
              "\n",
              "[79075 rows x 2 columns]"
            ],
            "text/html": [
              "\n",
              "  <div id=\"df-9b458259-34a9-4d48-a4e4-8727a666842a\" class=\"colab-df-container\">\n",
              "    <div>\n",
              "<style scoped>\n",
              "    .dataframe tbody tr th:only-of-type {\n",
              "        vertical-align: middle;\n",
              "    }\n",
              "\n",
              "    .dataframe tbody tr th {\n",
              "        vertical-align: top;\n",
              "    }\n",
              "\n",
              "    .dataframe thead th {\n",
              "        text-align: right;\n",
              "    }\n",
              "</style>\n",
              "<table border=\"1\" class=\"dataframe\">\n",
              "  <thead>\n",
              "    <tr style=\"text-align: right;\">\n",
              "      <th></th>\n",
              "      <th>label</th>\n",
              "      <th>text</th>\n",
              "    </tr>\n",
              "  </thead>\n",
              "  <tbody>\n",
              "    <tr>\n",
              "      <th>2</th>\n",
              "      <td>0</td>\n",
              "      <td>computer connection from cnn com wednesday es...</td>\n",
              "    </tr>\n",
              "    <tr>\n",
              "      <th>4</th>\n",
              "      <td>0</td>\n",
              "      <td>thanks for all your answers guys i know i shou...</td>\n",
              "    </tr>\n",
              "    <tr>\n",
              "      <th>5</th>\n",
              "      <td>0</td>\n",
              "      <td>larry king live at escapenumber escapenumber p...</td>\n",
              "    </tr>\n",
              "    <tr>\n",
              "      <th>6</th>\n",
              "      <td>0</td>\n",
              "      <td>michael pobega wrote i'm not sure if it's the ...</td>\n",
              "    </tr>\n",
              "    <tr>\n",
              "      <th>7</th>\n",
              "      <td>0</td>\n",
              "      <td>hi i have this error tr sample escapenumber es...</td>\n",
              "    </tr>\n",
              "    <tr>\n",
              "      <th>...</th>\n",
              "      <td>...</td>\n",
              "      <td>...</td>\n",
              "    </tr>\n",
              "    <tr>\n",
              "      <th>27862</th>\n",
              "      <td>1</td>\n",
              "      <td>i aescapenumber aescapenumberthe house work o...</td>\n",
              "    </tr>\n",
              "    <tr>\n",
              "      <th>15046</th>\n",
              "      <td>1</td>\n",
              "      <td>to say adios muchachos head on over to go to :...</td>\n",
              "    </tr>\n",
              "    <tr>\n",
              "      <th>17298</th>\n",
              "      <td>1</td>\n",
              "      <td>downloadable software ds is a fast paced compa...</td>\n",
              "    </tr>\n",
              "    <tr>\n",
              "      <th>29267</th>\n",
              "      <td>1</td>\n",
              "      <td>announces building nymex existing perkins set ...</td>\n",
              "    </tr>\n",
              "    <tr>\n",
              "      <th>63967</th>\n",
              "      <td>1</td>\n",
              "      <td>highest qualities replika watches now escapenu...</td>\n",
              "    </tr>\n",
              "  </tbody>\n",
              "</table>\n",
              "<p>79075 rows × 2 columns</p>\n",
              "</div>\n",
              "    <div class=\"colab-df-buttons\">\n",
              "\n",
              "  <div class=\"colab-df-container\">\n",
              "    <button class=\"colab-df-convert\" onclick=\"convertToInteractive('df-9b458259-34a9-4d48-a4e4-8727a666842a')\"\n",
              "            title=\"Convert this dataframe to an interactive table.\"\n",
              "            style=\"display:none;\">\n",
              "\n",
              "  <svg xmlns=\"http://www.w3.org/2000/svg\" height=\"24px\" viewBox=\"0 -960 960 960\">\n",
              "    <path d=\"M120-120v-720h720v720H120Zm60-500h600v-160H180v160Zm220 220h160v-160H400v160Zm0 220h160v-160H400v160ZM180-400h160v-160H180v160Zm440 0h160v-160H620v160ZM180-180h160v-160H180v160Zm440 0h160v-160H620v160Z\"/>\n",
              "  </svg>\n",
              "    </button>\n",
              "\n",
              "  <style>\n",
              "    .colab-df-container {\n",
              "      display:flex;\n",
              "      gap: 12px;\n",
              "    }\n",
              "\n",
              "    .colab-df-convert {\n",
              "      background-color: #E8F0FE;\n",
              "      border: none;\n",
              "      border-radius: 50%;\n",
              "      cursor: pointer;\n",
              "      display: none;\n",
              "      fill: #1967D2;\n",
              "      height: 32px;\n",
              "      padding: 0 0 0 0;\n",
              "      width: 32px;\n",
              "    }\n",
              "\n",
              "    .colab-df-convert:hover {\n",
              "      background-color: #E2EBFA;\n",
              "      box-shadow: 0px 1px 2px rgba(60, 64, 67, 0.3), 0px 1px 3px 1px rgba(60, 64, 67, 0.15);\n",
              "      fill: #174EA6;\n",
              "    }\n",
              "\n",
              "    .colab-df-buttons div {\n",
              "      margin-bottom: 4px;\n",
              "    }\n",
              "\n",
              "    [theme=dark] .colab-df-convert {\n",
              "      background-color: #3B4455;\n",
              "      fill: #D2E3FC;\n",
              "    }\n",
              "\n",
              "    [theme=dark] .colab-df-convert:hover {\n",
              "      background-color: #434B5C;\n",
              "      box-shadow: 0px 1px 3px 1px rgba(0, 0, 0, 0.15);\n",
              "      filter: drop-shadow(0px 1px 2px rgba(0, 0, 0, 0.3));\n",
              "      fill: #FFFFFF;\n",
              "    }\n",
              "  </style>\n",
              "\n",
              "    <script>\n",
              "      const buttonEl =\n",
              "        document.querySelector('#df-9b458259-34a9-4d48-a4e4-8727a666842a button.colab-df-convert');\n",
              "      buttonEl.style.display =\n",
              "        google.colab.kernel.accessAllowed ? 'block' : 'none';\n",
              "\n",
              "      async function convertToInteractive(key) {\n",
              "        const element = document.querySelector('#df-9b458259-34a9-4d48-a4e4-8727a666842a');\n",
              "        const dataTable =\n",
              "          await google.colab.kernel.invokeFunction('convertToInteractive',\n",
              "                                                    [key], {});\n",
              "        if (!dataTable) return;\n",
              "\n",
              "        const docLinkHtml = 'Like what you see? Visit the ' +\n",
              "          '<a target=\"_blank\" href=https://colab.research.google.com/notebooks/data_table.ipynb>data table notebook</a>'\n",
              "          + ' to learn more about interactive tables.';\n",
              "        element.innerHTML = '';\n",
              "        dataTable['output_type'] = 'display_data';\n",
              "        await google.colab.output.renderOutput(dataTable, element);\n",
              "        const docLink = document.createElement('div');\n",
              "        docLink.innerHTML = docLinkHtml;\n",
              "        element.appendChild(docLink);\n",
              "      }\n",
              "    </script>\n",
              "  </div>\n",
              "\n",
              "\n",
              "<div id=\"df-bccd9309-0772-41d5-a594-751c5b16ed74\">\n",
              "  <button class=\"colab-df-quickchart\" onclick=\"quickchart('df-bccd9309-0772-41d5-a594-751c5b16ed74')\"\n",
              "            title=\"Suggest charts\"\n",
              "            style=\"display:none;\">\n",
              "\n",
              "<svg xmlns=\"http://www.w3.org/2000/svg\" height=\"24px\"viewBox=\"0 0 24 24\"\n",
              "     width=\"24px\">\n",
              "    <g>\n",
              "        <path d=\"M19 3H5c-1.1 0-2 .9-2 2v14c0 1.1.9 2 2 2h14c1.1 0 2-.9 2-2V5c0-1.1-.9-2-2-2zM9 17H7v-7h2v7zm4 0h-2V7h2v10zm4 0h-2v-4h2v4z\"/>\n",
              "    </g>\n",
              "</svg>\n",
              "  </button>\n",
              "\n",
              "<style>\n",
              "  .colab-df-quickchart {\n",
              "      --bg-color: #E8F0FE;\n",
              "      --fill-color: #1967D2;\n",
              "      --hover-bg-color: #E2EBFA;\n",
              "      --hover-fill-color: #174EA6;\n",
              "      --disabled-fill-color: #AAA;\n",
              "      --disabled-bg-color: #DDD;\n",
              "  }\n",
              "\n",
              "  [theme=dark] .colab-df-quickchart {\n",
              "      --bg-color: #3B4455;\n",
              "      --fill-color: #D2E3FC;\n",
              "      --hover-bg-color: #434B5C;\n",
              "      --hover-fill-color: #FFFFFF;\n",
              "      --disabled-bg-color: #3B4455;\n",
              "      --disabled-fill-color: #666;\n",
              "  }\n",
              "\n",
              "  .colab-df-quickchart {\n",
              "    background-color: var(--bg-color);\n",
              "    border: none;\n",
              "    border-radius: 50%;\n",
              "    cursor: pointer;\n",
              "    display: none;\n",
              "    fill: var(--fill-color);\n",
              "    height: 32px;\n",
              "    padding: 0;\n",
              "    width: 32px;\n",
              "  }\n",
              "\n",
              "  .colab-df-quickchart:hover {\n",
              "    background-color: var(--hover-bg-color);\n",
              "    box-shadow: 0 1px 2px rgba(60, 64, 67, 0.3), 0 1px 3px 1px rgba(60, 64, 67, 0.15);\n",
              "    fill: var(--button-hover-fill-color);\n",
              "  }\n",
              "\n",
              "  .colab-df-quickchart-complete:disabled,\n",
              "  .colab-df-quickchart-complete:disabled:hover {\n",
              "    background-color: var(--disabled-bg-color);\n",
              "    fill: var(--disabled-fill-color);\n",
              "    box-shadow: none;\n",
              "  }\n",
              "\n",
              "  .colab-df-spinner {\n",
              "    border: 2px solid var(--fill-color);\n",
              "    border-color: transparent;\n",
              "    border-bottom-color: var(--fill-color);\n",
              "    animation:\n",
              "      spin 1s steps(1) infinite;\n",
              "  }\n",
              "\n",
              "  @keyframes spin {\n",
              "    0% {\n",
              "      border-color: transparent;\n",
              "      border-bottom-color: var(--fill-color);\n",
              "      border-left-color: var(--fill-color);\n",
              "    }\n",
              "    20% {\n",
              "      border-color: transparent;\n",
              "      border-left-color: var(--fill-color);\n",
              "      border-top-color: var(--fill-color);\n",
              "    }\n",
              "    30% {\n",
              "      border-color: transparent;\n",
              "      border-left-color: var(--fill-color);\n",
              "      border-top-color: var(--fill-color);\n",
              "      border-right-color: var(--fill-color);\n",
              "    }\n",
              "    40% {\n",
              "      border-color: transparent;\n",
              "      border-right-color: var(--fill-color);\n",
              "      border-top-color: var(--fill-color);\n",
              "    }\n",
              "    60% {\n",
              "      border-color: transparent;\n",
              "      border-right-color: var(--fill-color);\n",
              "    }\n",
              "    80% {\n",
              "      border-color: transparent;\n",
              "      border-right-color: var(--fill-color);\n",
              "      border-bottom-color: var(--fill-color);\n",
              "    }\n",
              "    90% {\n",
              "      border-color: transparent;\n",
              "      border-bottom-color: var(--fill-color);\n",
              "    }\n",
              "  }\n",
              "</style>\n",
              "\n",
              "  <script>\n",
              "    async function quickchart(key) {\n",
              "      const quickchartButtonEl =\n",
              "        document.querySelector('#' + key + ' button');\n",
              "      quickchartButtonEl.disabled = true;  // To prevent multiple clicks.\n",
              "      quickchartButtonEl.classList.add('colab-df-spinner');\n",
              "      try {\n",
              "        const charts = await google.colab.kernel.invokeFunction(\n",
              "            'suggestCharts', [key], {});\n",
              "      } catch (error) {\n",
              "        console.error('Error during call to suggestCharts:', error);\n",
              "      }\n",
              "      quickchartButtonEl.classList.remove('colab-df-spinner');\n",
              "      quickchartButtonEl.classList.add('colab-df-quickchart-complete');\n",
              "    }\n",
              "    (() => {\n",
              "      let quickchartButtonEl =\n",
              "        document.querySelector('#df-bccd9309-0772-41d5-a594-751c5b16ed74 button');\n",
              "      quickchartButtonEl.style.display =\n",
              "        google.colab.kernel.accessAllowed ? 'block' : 'none';\n",
              "    })();\n",
              "  </script>\n",
              "</div>\n",
              "\n",
              "  <div id=\"id_450ac785-d531-4b16-8970-16791c16d0ec\">\n",
              "    <style>\n",
              "      .colab-df-generate {\n",
              "        background-color: #E8F0FE;\n",
              "        border: none;\n",
              "        border-radius: 50%;\n",
              "        cursor: pointer;\n",
              "        display: none;\n",
              "        fill: #1967D2;\n",
              "        height: 32px;\n",
              "        padding: 0 0 0 0;\n",
              "        width: 32px;\n",
              "      }\n",
              "\n",
              "      .colab-df-generate:hover {\n",
              "        background-color: #E2EBFA;\n",
              "        box-shadow: 0px 1px 2px rgba(60, 64, 67, 0.3), 0px 1px 3px 1px rgba(60, 64, 67, 0.15);\n",
              "        fill: #174EA6;\n",
              "      }\n",
              "\n",
              "      [theme=dark] .colab-df-generate {\n",
              "        background-color: #3B4455;\n",
              "        fill: #D2E3FC;\n",
              "      }\n",
              "\n",
              "      [theme=dark] .colab-df-generate:hover {\n",
              "        background-color: #434B5C;\n",
              "        box-shadow: 0px 1px 3px 1px rgba(0, 0, 0, 0.15);\n",
              "        filter: drop-shadow(0px 1px 2px rgba(0, 0, 0, 0.3));\n",
              "        fill: #FFFFFF;\n",
              "      }\n",
              "    </style>\n",
              "    <button class=\"colab-df-generate\" onclick=\"generateWithVariable('new_df')\"\n",
              "            title=\"Generate code using this dataframe.\"\n",
              "            style=\"display:none;\">\n",
              "\n",
              "  <svg xmlns=\"http://www.w3.org/2000/svg\" height=\"24px\"viewBox=\"0 0 24 24\"\n",
              "       width=\"24px\">\n",
              "    <path d=\"M7,19H8.4L18.45,9,17,7.55,7,17.6ZM5,21V16.75L18.45,3.32a2,2,0,0,1,2.83,0l1.4,1.43a1.91,1.91,0,0,1,.58,1.4,1.91,1.91,0,0,1-.58,1.4L9.25,21ZM18.45,9,17,7.55Zm-12,3A5.31,5.31,0,0,0,4.9,8.1,5.31,5.31,0,0,0,1,6.5,5.31,5.31,0,0,0,4.9,4.9,5.31,5.31,0,0,0,6.5,1,5.31,5.31,0,0,0,8.1,4.9,5.31,5.31,0,0,0,12,6.5,5.46,5.46,0,0,0,6.5,12Z\"/>\n",
              "  </svg>\n",
              "    </button>\n",
              "    <script>\n",
              "      (() => {\n",
              "      const buttonEl =\n",
              "        document.querySelector('#id_450ac785-d531-4b16-8970-16791c16d0ec button.colab-df-generate');\n",
              "      buttonEl.style.display =\n",
              "        google.colab.kernel.accessAllowed ? 'block' : 'none';\n",
              "\n",
              "      buttonEl.onclick = () => {\n",
              "        google.colab.notebook.generateWithVariable('new_df');\n",
              "      }\n",
              "      })();\n",
              "    </script>\n",
              "  </div>\n",
              "\n",
              "    </div>\n",
              "  </div>\n"
            ],
            "application/vnd.google.colaboratory.intrinsic+json": {
              "type": "dataframe",
              "variable_name": "new_df",
              "summary": "{\n  \"name\": \"new_df\",\n  \"rows\": 79075,\n  \"fields\": [\n    {\n      \"column\": \"label\",\n      \"properties\": {\n        \"dtype\": \"number\",\n        \"std\": 0,\n        \"min\": 0,\n        \"max\": 1,\n        \"num_unique_values\": 2,\n        \"samples\": [\n          1,\n          0\n        ],\n        \"semantic_type\": \"\",\n        \"description\": \"\"\n      }\n    },\n    {\n      \"column\": \"text\",\n      \"properties\": {\n        \"dtype\": \"string\",\n        \"num_unique_values\": 79073,\n        \"samples\": [\n          \"the bull report ca mp aign for utevcurrent escapenumber escapenumber escapenumber day target price escapenumbermarket hellish trade smart and win with us now see bullish news online right now theorize call broker \",\n          \"hxpn is making great progress get on this train now watch it on monday may escapenumberth company harris exploration inc symbol hxpn price escapenumber escapenumber escapenumber day target escapenumber rating strong buy harris exploration inc announces advanced zone discovery hxpn could inflate your portfolio greatly this one has amazing potential add it to your radar on monday may escapenumber after some little time had elapsed and cleopatra was beginning to be seat for several centuries of the magnificent government of the this plain though only one of them constitutes any considerable the mass of the community during the period of their reign the internalthe port of alexandria presented thus a constant picture of life and which it forms sufficient to make it the bed of a stream springs issue compelled her to recall lathyrus from the banishment into which she had to inundate the districts where they fall immense torrents stream downthe founder of the dynasty of the ptolemies the ruler into whose hands that quarter of the world is such that they bring down from the that which direct and actual vision would afford us if we could look\"\n        ],\n        \"semantic_type\": \"\",\n        \"description\": \"\"\n      }\n    }\n  ]\n}"
            }
          },
          "metadata": {},
          "execution_count": 8
        }
      ]
    },
    {
      "cell_type": "code",
      "source": [
        "new_df.shape"
      ],
      "metadata": {
        "execution": {
          "iopub.status.busy": "2024-07-14T10:19:34.601187Z",
          "iopub.status.idle": "2024-07-14T10:19:34.601607Z",
          "shell.execute_reply.started": "2024-07-14T10:19:34.601391Z",
          "shell.execute_reply": "2024-07-14T10:19:34.601407Z"
        },
        "trusted": true,
        "id": "-CwTrYt1wc13",
        "outputId": "e34b145b-2afc-4370-b1d1-8c67d060e0aa",
        "colab": {
          "base_uri": "https://localhost:8080/"
        }
      },
      "execution_count": 9,
      "outputs": [
        {
          "output_type": "execute_result",
          "data": {
            "text/plain": [
              "(79075, 2)"
            ]
          },
          "metadata": {},
          "execution_count": 9
        }
      ]
    },
    {
      "cell_type": "markdown",
      "source": [
        "## **Splitting the data in features and targets**"
      ],
      "metadata": {
        "id": "Zbkqkagawc14"
      }
    },
    {
      "cell_type": "code",
      "source": [
        "#The dataset has two columns text will be features (X) and label will be target (Y)\n",
        "X = new_df['text']\n",
        "Y = new_df['label']"
      ],
      "metadata": {
        "execution": {
          "iopub.status.busy": "2024-07-14T10:19:34.608739Z",
          "iopub.status.idle": "2024-07-14T10:19:34.609302Z",
          "shell.execute_reply.started": "2024-07-14T10:19:34.609033Z",
          "shell.execute_reply": "2024-07-14T10:19:34.609054Z"
        },
        "trusted": true,
        "id": "fmfQPGpOwc14"
      },
      "execution_count": 10,
      "outputs": []
    },
    {
      "cell_type": "code",
      "source": [
        "X.head()"
      ],
      "metadata": {
        "execution": {
          "iopub.status.busy": "2024-07-14T10:19:34.611028Z",
          "iopub.status.idle": "2024-07-14T10:19:34.611617Z",
          "shell.execute_reply.started": "2024-07-14T10:19:34.61132Z",
          "shell.execute_reply": "2024-07-14T10:19:34.611343Z"
        },
        "trusted": true,
        "id": "n_NNSquXwc14",
        "outputId": "b7ec8807-f86f-43cd-caa9-045d95db6ce2",
        "colab": {
          "base_uri": "https://localhost:8080/"
        }
      },
      "execution_count": 11,
      "outputs": [
        {
          "output_type": "execute_result",
          "data": {
            "text/plain": [
              "2     computer connection from cnn com wednesday es...\n",
              "4    thanks for all your answers guys i know i shou...\n",
              "5    larry king live at escapenumber escapenumber p...\n",
              "6    michael pobega wrote i'm not sure if it's the ...\n",
              "7    hi i have this error tr sample escapenumber es...\n",
              "Name: text, dtype: object"
            ]
          },
          "metadata": {},
          "execution_count": 11
        }
      ]
    },
    {
      "cell_type": "code",
      "source": [
        "Y.head()"
      ],
      "metadata": {
        "execution": {
          "iopub.status.busy": "2024-07-14T10:19:34.613373Z",
          "iopub.status.idle": "2024-07-14T10:19:34.613889Z",
          "shell.execute_reply.started": "2024-07-14T10:19:34.613616Z",
          "shell.execute_reply": "2024-07-14T10:19:34.613633Z"
        },
        "trusted": true,
        "id": "aQBPtEl2wc14",
        "outputId": "c53a929f-ec22-46ed-f7ae-a814d6a1fc1b",
        "colab": {
          "base_uri": "https://localhost:8080/"
        }
      },
      "execution_count": 12,
      "outputs": [
        {
          "output_type": "execute_result",
          "data": {
            "text/plain": [
              "2    0\n",
              "4    0\n",
              "5    0\n",
              "6    0\n",
              "7    0\n",
              "Name: label, dtype: int64"
            ]
          },
          "metadata": {},
          "execution_count": 12
        }
      ]
    },
    {
      "cell_type": "markdown",
      "source": [
        "## **Splitting the data into training and testing data**"
      ],
      "metadata": {
        "id": "nejPDe2Ywc14"
      }
    },
    {
      "cell_type": "code",
      "source": [
        "#using train test split from sklearn\n",
        "X_train, X_test, Y_train, Y_test = train_test_split(X, Y, test_size=0.2, stratify=Y, random_state=2)"
      ],
      "metadata": {
        "execution": {
          "iopub.status.busy": "2024-07-14T10:19:34.615364Z",
          "iopub.status.idle": "2024-07-14T10:19:34.615797Z",
          "shell.execute_reply.started": "2024-07-14T10:19:34.615606Z",
          "shell.execute_reply": "2024-07-14T10:19:34.615625Z"
        },
        "trusted": true,
        "id": "xeo5wY-Kwc14"
      },
      "execution_count": 13,
      "outputs": []
    },
    {
      "cell_type": "code",
      "source": [
        "X_train.shape"
      ],
      "metadata": {
        "execution": {
          "iopub.status.busy": "2024-07-14T10:19:34.617771Z",
          "iopub.status.idle": "2024-07-14T10:19:34.618171Z",
          "shell.execute_reply.started": "2024-07-14T10:19:34.617989Z",
          "shell.execute_reply": "2024-07-14T10:19:34.618006Z"
        },
        "trusted": true,
        "id": "zZtqroimwc14",
        "outputId": "7c06f301-e399-4ba5-bafd-f3e5773c3144",
        "colab": {
          "base_uri": "https://localhost:8080/"
        }
      },
      "execution_count": 14,
      "outputs": [
        {
          "output_type": "execute_result",
          "data": {
            "text/plain": [
              "(63260,)"
            ]
          },
          "metadata": {},
          "execution_count": 14
        }
      ]
    },
    {
      "cell_type": "code",
      "source": [
        "X_test.shape"
      ],
      "metadata": {
        "execution": {
          "iopub.status.busy": "2024-07-14T10:19:34.620413Z",
          "iopub.status.idle": "2024-07-14T10:19:34.620881Z",
          "shell.execute_reply.started": "2024-07-14T10:19:34.620677Z",
          "shell.execute_reply": "2024-07-14T10:19:34.620695Z"
        },
        "trusted": true,
        "id": "KyfKQ9aywc15",
        "outputId": "dda02877-8424-43d6-f905-c591be3f2e0d",
        "colab": {
          "base_uri": "https://localhost:8080/"
        }
      },
      "execution_count": 15,
      "outputs": [
        {
          "output_type": "execute_result",
          "data": {
            "text/plain": [
              "(15815,)"
            ]
          },
          "metadata": {},
          "execution_count": 15
        }
      ]
    },
    {
      "cell_type": "code",
      "source": [
        "Y_train.shape"
      ],
      "metadata": {
        "execution": {
          "iopub.status.busy": "2024-07-14T10:19:34.622333Z",
          "iopub.status.idle": "2024-07-14T10:19:34.622757Z",
          "shell.execute_reply.started": "2024-07-14T10:19:34.622569Z",
          "shell.execute_reply": "2024-07-14T10:19:34.622588Z"
        },
        "trusted": true,
        "id": "b2tugPuKwc15",
        "outputId": "bd9ba7e2-40d9-4ad4-da12-721f0c846894",
        "colab": {
          "base_uri": "https://localhost:8080/"
        }
      },
      "execution_count": 16,
      "outputs": [
        {
          "output_type": "execute_result",
          "data": {
            "text/plain": [
              "(63260,)"
            ]
          },
          "metadata": {},
          "execution_count": 16
        }
      ]
    },
    {
      "cell_type": "code",
      "source": [
        "Y_test.shape"
      ],
      "metadata": {
        "execution": {
          "iopub.status.busy": "2024-07-14T10:19:34.62426Z",
          "iopub.status.idle": "2024-07-14T10:19:34.62482Z",
          "shell.execute_reply.started": "2024-07-14T10:19:34.624547Z",
          "shell.execute_reply": "2024-07-14T10:19:34.62457Z"
        },
        "trusted": true,
        "id": "YQSvw0PRwc15",
        "outputId": "7c39b5fa-f467-4ade-c12a-338da0981987",
        "colab": {
          "base_uri": "https://localhost:8080/"
        }
      },
      "execution_count": 17,
      "outputs": [
        {
          "output_type": "execute_result",
          "data": {
            "text/plain": [
              "(15815,)"
            ]
          },
          "metadata": {},
          "execution_count": 17
        }
      ]
    },
    {
      "cell_type": "markdown",
      "source": [
        "## **Convert the text data into numerical data**"
      ],
      "metadata": {
        "id": "45iZG4Ilwc14"
      }
    },
    {
      "cell_type": "code",
      "source": [
        "feature_extraction = TfidfVectorizer(min_df = 2, stop_words='english', lowercase=True)"
      ],
      "metadata": {
        "id": "Nk3AULciz00R"
      },
      "execution_count": 18,
      "outputs": []
    },
    {
      "cell_type": "code",
      "source": [
        "X_train_features = feature_extraction.fit_transform(X_train)\n",
        "X_test_features = feature_extraction.transform(X_test)"
      ],
      "metadata": {
        "id": "NFObw95k0BzS"
      },
      "execution_count": 19,
      "outputs": []
    },
    {
      "cell_type": "code",
      "source": [
        "Y_train = Y_train.astype('int')\n",
        "Y_test = Y_test.astype('int')"
      ],
      "metadata": {
        "id": "GBqhPCxN0yk7"
      },
      "execution_count": 20,
      "outputs": []
    },
    {
      "cell_type": "code",
      "source": [
        "print(X_train_features)"
      ],
      "metadata": {
        "id": "-pxqMslr1Dyw",
        "outputId": "617e0041-e6d0-4676-f433-aafb2d806f79",
        "colab": {
          "base_uri": "https://localhost:8080/"
        }
      },
      "execution_count": 21,
      "outputs": [
        {
          "output_type": "stream",
          "name": "stdout",
          "text": [
            "  (0, 101615)\t0.03558329440529161\n",
            "  (0, 79299)\t0.04179648982083858\n",
            "  (0, 1627)\t0.061403395541682476\n",
            "  (0, 148)\t0.059929424787974264\n",
            "  (0, 1756)\t0.05306410977010731\n",
            "  (0, 98280)\t0.0747452322522196\n",
            "  (0, 19769)\t0.0899565899742732\n",
            "  (0, 1278)\t0.059339653699070426\n",
            "  (0, 267)\t0.06441312991311894\n",
            "  (0, 59090)\t0.34239669813076407\n",
            "  (0, 102845)\t0.4147763671317907\n",
            "  (0, 2472)\t0.07465606234276377\n",
            "  (0, 312)\t0.061557836924199597\n",
            "  (0, 1185)\t0.15139938473164272\n",
            "  (0, 1809)\t0.18796382151214822\n",
            "  (0, 348)\t0.1886184002870401\n",
            "  (0, 36231)\t0.3073921522048524\n",
            "  (0, 38643)\t0.2495151327277738\n",
            "  (0, 32537)\t0.3141548989674287\n",
            "  (0, 61455)\t0.31035106652970756\n",
            "  (0, 42990)\t0.053460798381598736\n",
            "  (0, 0)\t0.10543187144007571\n",
            "  (0, 101581)\t0.05313962908894049\n",
            "  (0, 938)\t0.060734873533547125\n",
            "  (0, 72021)\t0.06723989275099353\n",
            "  :\t:\n",
            "  (63259, 26252)\t0.09533914457710697\n",
            "  (63259, 93925)\t0.05672019568935565\n",
            "  (63259, 21891)\t0.06549327423888711\n",
            "  (63259, 23590)\t0.07167151587537758\n",
            "  (63259, 41132)\t0.06943928478509712\n",
            "  (63259, 75377)\t0.06832479354377913\n",
            "  (63259, 58539)\t0.0933983694572481\n",
            "  (63259, 15046)\t0.09926057711101492\n",
            "  (63259, 26637)\t0.06554249288269849\n",
            "  (63259, 13649)\t0.08220413120771485\n",
            "  (63259, 33093)\t0.07433061177941516\n",
            "  (63259, 73847)\t0.07061540118726242\n",
            "  (63259, 93929)\t0.035828771561120354\n",
            "  (63259, 26279)\t0.09255684391602632\n",
            "  (63259, 80085)\t0.05195173403322277\n",
            "  (63259, 6588)\t0.052851757494265385\n",
            "  (63259, 14878)\t0.04139134170767072\n",
            "  (63259, 108670)\t0.062444659207148756\n",
            "  (63259, 15636)\t0.05508322217556685\n",
            "  (63259, 33990)\t0.0413710533791989\n",
            "  (63259, 28179)\t0.028455188093136255\n",
            "  (63259, 18746)\t0.05218449689539657\n",
            "  (63259, 23326)\t0.05049378540028185\n",
            "  (63259, 108071)\t0.06862626382464053\n",
            "  (63259, 87740)\t0.06951339581928173\n"
          ]
        }
      ]
    },
    {
      "cell_type": "markdown",
      "source": [
        "## **Model Learning**"
      ],
      "metadata": {
        "id": "DpKRo1QFwc15"
      }
    },
    {
      "cell_type": "markdown",
      "source": [
        "### *Logistic Regression*"
      ],
      "metadata": {
        "id": "pNtSzIfHwc15"
      }
    },
    {
      "cell_type": "code",
      "source": [
        "model = LogisticRegression()\n"
      ],
      "metadata": {
        "execution": {
          "iopub.status.busy": "2024-07-14T10:19:34.626587Z",
          "iopub.status.idle": "2024-07-14T10:19:34.62698Z",
          "shell.execute_reply.started": "2024-07-14T10:19:34.626797Z",
          "shell.execute_reply": "2024-07-14T10:19:34.626813Z"
        },
        "trusted": true,
        "id": "iITbmH4fwc15"
      },
      "execution_count": 22,
      "outputs": []
    },
    {
      "cell_type": "code",
      "source": [
        "#training the logistic regression model with training data\n",
        "model.fit(X_train_features, Y_train)"
      ],
      "metadata": {
        "execution": {
          "iopub.status.busy": "2024-07-14T10:19:34.628543Z",
          "iopub.status.idle": "2024-07-14T10:19:34.629081Z",
          "shell.execute_reply.started": "2024-07-14T10:19:34.62881Z",
          "shell.execute_reply": "2024-07-14T10:19:34.628832Z"
        },
        "trusted": true,
        "id": "dIFNdYPRwc15",
        "outputId": "82cd0986-4133-4137-ecd6-8775ead439ba",
        "colab": {
          "base_uri": "https://localhost:8080/",
          "height": 74
        }
      },
      "execution_count": 23,
      "outputs": [
        {
          "output_type": "execute_result",
          "data": {
            "text/plain": [
              "LogisticRegression()"
            ],
            "text/html": [
              "<style>#sk-container-id-1 {color: black;background-color: white;}#sk-container-id-1 pre{padding: 0;}#sk-container-id-1 div.sk-toggleable {background-color: white;}#sk-container-id-1 label.sk-toggleable__label {cursor: pointer;display: block;width: 100%;margin-bottom: 0;padding: 0.3em;box-sizing: border-box;text-align: center;}#sk-container-id-1 label.sk-toggleable__label-arrow:before {content: \"▸\";float: left;margin-right: 0.25em;color: #696969;}#sk-container-id-1 label.sk-toggleable__label-arrow:hover:before {color: black;}#sk-container-id-1 div.sk-estimator:hover label.sk-toggleable__label-arrow:before {color: black;}#sk-container-id-1 div.sk-toggleable__content {max-height: 0;max-width: 0;overflow: hidden;text-align: left;background-color: #f0f8ff;}#sk-container-id-1 div.sk-toggleable__content pre {margin: 0.2em;color: black;border-radius: 0.25em;background-color: #f0f8ff;}#sk-container-id-1 input.sk-toggleable__control:checked~div.sk-toggleable__content {max-height: 200px;max-width: 100%;overflow: auto;}#sk-container-id-1 input.sk-toggleable__control:checked~label.sk-toggleable__label-arrow:before {content: \"▾\";}#sk-container-id-1 div.sk-estimator input.sk-toggleable__control:checked~label.sk-toggleable__label {background-color: #d4ebff;}#sk-container-id-1 div.sk-label input.sk-toggleable__control:checked~label.sk-toggleable__label {background-color: #d4ebff;}#sk-container-id-1 input.sk-hidden--visually {border: 0;clip: rect(1px 1px 1px 1px);clip: rect(1px, 1px, 1px, 1px);height: 1px;margin: -1px;overflow: hidden;padding: 0;position: absolute;width: 1px;}#sk-container-id-1 div.sk-estimator {font-family: monospace;background-color: #f0f8ff;border: 1px dotted black;border-radius: 0.25em;box-sizing: border-box;margin-bottom: 0.5em;}#sk-container-id-1 div.sk-estimator:hover {background-color: #d4ebff;}#sk-container-id-1 div.sk-parallel-item::after {content: \"\";width: 100%;border-bottom: 1px solid gray;flex-grow: 1;}#sk-container-id-1 div.sk-label:hover label.sk-toggleable__label {background-color: #d4ebff;}#sk-container-id-1 div.sk-serial::before {content: \"\";position: absolute;border-left: 1px solid gray;box-sizing: border-box;top: 0;bottom: 0;left: 50%;z-index: 0;}#sk-container-id-1 div.sk-serial {display: flex;flex-direction: column;align-items: center;background-color: white;padding-right: 0.2em;padding-left: 0.2em;position: relative;}#sk-container-id-1 div.sk-item {position: relative;z-index: 1;}#sk-container-id-1 div.sk-parallel {display: flex;align-items: stretch;justify-content: center;background-color: white;position: relative;}#sk-container-id-1 div.sk-item::before, #sk-container-id-1 div.sk-parallel-item::before {content: \"\";position: absolute;border-left: 1px solid gray;box-sizing: border-box;top: 0;bottom: 0;left: 50%;z-index: -1;}#sk-container-id-1 div.sk-parallel-item {display: flex;flex-direction: column;z-index: 1;position: relative;background-color: white;}#sk-container-id-1 div.sk-parallel-item:first-child::after {align-self: flex-end;width: 50%;}#sk-container-id-1 div.sk-parallel-item:last-child::after {align-self: flex-start;width: 50%;}#sk-container-id-1 div.sk-parallel-item:only-child::after {width: 0;}#sk-container-id-1 div.sk-dashed-wrapped {border: 1px dashed gray;margin: 0 0.4em 0.5em 0.4em;box-sizing: border-box;padding-bottom: 0.4em;background-color: white;}#sk-container-id-1 div.sk-label label {font-family: monospace;font-weight: bold;display: inline-block;line-height: 1.2em;}#sk-container-id-1 div.sk-label-container {text-align: center;}#sk-container-id-1 div.sk-container {/* jupyter's `normalize.less` sets `[hidden] { display: none; }` but bootstrap.min.css set `[hidden] { display: none !important; }` so we also need the `!important` here to be able to override the default hidden behavior on the sphinx rendered scikit-learn.org. See: https://github.com/scikit-learn/scikit-learn/issues/21755 */display: inline-block !important;position: relative;}#sk-container-id-1 div.sk-text-repr-fallback {display: none;}</style><div id=\"sk-container-id-1\" class=\"sk-top-container\"><div class=\"sk-text-repr-fallback\"><pre>LogisticRegression()</pre><b>In a Jupyter environment, please rerun this cell to show the HTML representation or trust the notebook. <br />On GitHub, the HTML representation is unable to render, please try loading this page with nbviewer.org.</b></div><div class=\"sk-container\" hidden><div class=\"sk-item\"><div class=\"sk-estimator sk-toggleable\"><input class=\"sk-toggleable__control sk-hidden--visually\" id=\"sk-estimator-id-1\" type=\"checkbox\" checked><label for=\"sk-estimator-id-1\" class=\"sk-toggleable__label sk-toggleable__label-arrow\">LogisticRegression</label><div class=\"sk-toggleable__content\"><pre>LogisticRegression()</pre></div></div></div></div></div>"
            ]
          },
          "metadata": {},
          "execution_count": 23
        }
      ]
    },
    {
      "cell_type": "markdown",
      "source": [
        "### *Multinomial NB*"
      ],
      "metadata": {
        "id": "BchvMOVMHBK4"
      }
    },
    {
      "cell_type": "code",
      "source": [
        "from sklearn.naive_bayes import MultinomialNB"
      ],
      "metadata": {
        "id": "uJO-xAn-Hs4E"
      },
      "execution_count": 24,
      "outputs": []
    },
    {
      "cell_type": "code",
      "source": [
        "#create an instance of MultinomialNB classifier\n",
        "mnb = MultinomialNB()"
      ],
      "metadata": {
        "id": "E9DH8n72HyNF"
      },
      "execution_count": 25,
      "outputs": []
    },
    {
      "cell_type": "code",
      "source": [
        "#train the model\n",
        "mnb.fit(X_train_features, Y_train)"
      ],
      "metadata": {
        "id": "8as8NGtAH6aR",
        "outputId": "b5c4d542-eba0-4078-c266-9a1da58db39e",
        "colab": {
          "base_uri": "https://localhost:8080/",
          "height": 74
        }
      },
      "execution_count": 26,
      "outputs": [
        {
          "output_type": "execute_result",
          "data": {
            "text/plain": [
              "MultinomialNB()"
            ],
            "text/html": [
              "<style>#sk-container-id-2 {color: black;background-color: white;}#sk-container-id-2 pre{padding: 0;}#sk-container-id-2 div.sk-toggleable {background-color: white;}#sk-container-id-2 label.sk-toggleable__label {cursor: pointer;display: block;width: 100%;margin-bottom: 0;padding: 0.3em;box-sizing: border-box;text-align: center;}#sk-container-id-2 label.sk-toggleable__label-arrow:before {content: \"▸\";float: left;margin-right: 0.25em;color: #696969;}#sk-container-id-2 label.sk-toggleable__label-arrow:hover:before {color: black;}#sk-container-id-2 div.sk-estimator:hover label.sk-toggleable__label-arrow:before {color: black;}#sk-container-id-2 div.sk-toggleable__content {max-height: 0;max-width: 0;overflow: hidden;text-align: left;background-color: #f0f8ff;}#sk-container-id-2 div.sk-toggleable__content pre {margin: 0.2em;color: black;border-radius: 0.25em;background-color: #f0f8ff;}#sk-container-id-2 input.sk-toggleable__control:checked~div.sk-toggleable__content {max-height: 200px;max-width: 100%;overflow: auto;}#sk-container-id-2 input.sk-toggleable__control:checked~label.sk-toggleable__label-arrow:before {content: \"▾\";}#sk-container-id-2 div.sk-estimator input.sk-toggleable__control:checked~label.sk-toggleable__label {background-color: #d4ebff;}#sk-container-id-2 div.sk-label input.sk-toggleable__control:checked~label.sk-toggleable__label {background-color: #d4ebff;}#sk-container-id-2 input.sk-hidden--visually {border: 0;clip: rect(1px 1px 1px 1px);clip: rect(1px, 1px, 1px, 1px);height: 1px;margin: -1px;overflow: hidden;padding: 0;position: absolute;width: 1px;}#sk-container-id-2 div.sk-estimator {font-family: monospace;background-color: #f0f8ff;border: 1px dotted black;border-radius: 0.25em;box-sizing: border-box;margin-bottom: 0.5em;}#sk-container-id-2 div.sk-estimator:hover {background-color: #d4ebff;}#sk-container-id-2 div.sk-parallel-item::after {content: \"\";width: 100%;border-bottom: 1px solid gray;flex-grow: 1;}#sk-container-id-2 div.sk-label:hover label.sk-toggleable__label {background-color: #d4ebff;}#sk-container-id-2 div.sk-serial::before {content: \"\";position: absolute;border-left: 1px solid gray;box-sizing: border-box;top: 0;bottom: 0;left: 50%;z-index: 0;}#sk-container-id-2 div.sk-serial {display: flex;flex-direction: column;align-items: center;background-color: white;padding-right: 0.2em;padding-left: 0.2em;position: relative;}#sk-container-id-2 div.sk-item {position: relative;z-index: 1;}#sk-container-id-2 div.sk-parallel {display: flex;align-items: stretch;justify-content: center;background-color: white;position: relative;}#sk-container-id-2 div.sk-item::before, #sk-container-id-2 div.sk-parallel-item::before {content: \"\";position: absolute;border-left: 1px solid gray;box-sizing: border-box;top: 0;bottom: 0;left: 50%;z-index: -1;}#sk-container-id-2 div.sk-parallel-item {display: flex;flex-direction: column;z-index: 1;position: relative;background-color: white;}#sk-container-id-2 div.sk-parallel-item:first-child::after {align-self: flex-end;width: 50%;}#sk-container-id-2 div.sk-parallel-item:last-child::after {align-self: flex-start;width: 50%;}#sk-container-id-2 div.sk-parallel-item:only-child::after {width: 0;}#sk-container-id-2 div.sk-dashed-wrapped {border: 1px dashed gray;margin: 0 0.4em 0.5em 0.4em;box-sizing: border-box;padding-bottom: 0.4em;background-color: white;}#sk-container-id-2 div.sk-label label {font-family: monospace;font-weight: bold;display: inline-block;line-height: 1.2em;}#sk-container-id-2 div.sk-label-container {text-align: center;}#sk-container-id-2 div.sk-container {/* jupyter's `normalize.less` sets `[hidden] { display: none; }` but bootstrap.min.css set `[hidden] { display: none !important; }` so we also need the `!important` here to be able to override the default hidden behavior on the sphinx rendered scikit-learn.org. See: https://github.com/scikit-learn/scikit-learn/issues/21755 */display: inline-block !important;position: relative;}#sk-container-id-2 div.sk-text-repr-fallback {display: none;}</style><div id=\"sk-container-id-2\" class=\"sk-top-container\"><div class=\"sk-text-repr-fallback\"><pre>MultinomialNB()</pre><b>In a Jupyter environment, please rerun this cell to show the HTML representation or trust the notebook. <br />On GitHub, the HTML representation is unable to render, please try loading this page with nbviewer.org.</b></div><div class=\"sk-container\" hidden><div class=\"sk-item\"><div class=\"sk-estimator sk-toggleable\"><input class=\"sk-toggleable__control sk-hidden--visually\" id=\"sk-estimator-id-2\" type=\"checkbox\" checked><label for=\"sk-estimator-id-2\" class=\"sk-toggleable__label sk-toggleable__label-arrow\">MultinomialNB</label><div class=\"sk-toggleable__content\"><pre>MultinomialNB()</pre></div></div></div></div></div>"
            ]
          },
          "metadata": {},
          "execution_count": 26
        }
      ]
    },
    {
      "cell_type": "markdown",
      "source": [
        "## **Model Evaluation**"
      ],
      "metadata": {
        "id": "zIGi4cjp15q9"
      }
    },
    {
      "cell_type": "markdown",
      "source": [
        "### *Logistic Regression*"
      ],
      "metadata": {
        "id": "dKGft2D8HkZx"
      }
    },
    {
      "cell_type": "code",
      "source": [
        "#accuracy score on train data\n",
        "X_train_prediction = model.predict(X_train_features)\n",
        "training_data_accuracy = accuracy_score(Y_train, X_train_prediction)"
      ],
      "metadata": {
        "id": "NuKqJWSY18qF"
      },
      "execution_count": 27,
      "outputs": []
    },
    {
      "cell_type": "code",
      "source": [
        "training_data_accuracy"
      ],
      "metadata": {
        "id": "1g_-ydsH2FFb",
        "outputId": "f91a0bf7-d332-475e-feae-8ed8834c1b08",
        "colab": {
          "base_uri": "https://localhost:8080/"
        }
      },
      "execution_count": 28,
      "outputs": [
        {
          "output_type": "execute_result",
          "data": {
            "text/plain": [
              "0.9903888713246918"
            ]
          },
          "metadata": {},
          "execution_count": 28
        }
      ]
    },
    {
      "cell_type": "code",
      "source": [
        "#accuracy on test data\n",
        "X_test_prediction = model.predict(X_test_features)\n",
        "test_data_accuracy = accuracy_score(Y_test, X_test_prediction)"
      ],
      "metadata": {
        "id": "uIjwJfF62H9_"
      },
      "execution_count": 29,
      "outputs": []
    },
    {
      "cell_type": "code",
      "source": [
        "test_data_accuracy"
      ],
      "metadata": {
        "id": "HnSa_cPv2MaS",
        "outputId": "460c09c3-3a7a-4a8a-fef4-d6de4e62dd52",
        "colab": {
          "base_uri": "https://localhost:8080/"
        }
      },
      "execution_count": 30,
      "outputs": [
        {
          "output_type": "execute_result",
          "data": {
            "text/plain": [
              "0.9843186847929181"
            ]
          },
          "metadata": {},
          "execution_count": 30
        }
      ]
    },
    {
      "cell_type": "markdown",
      "source": [
        "### *MultinomialNB Classifier*"
      ],
      "metadata": {
        "id": "k2vbKl_uIVc8"
      }
    },
    {
      "cell_type": "code",
      "source": [
        "#make predictions on trained data\n",
        "mnb_predicton = mnb.predict(X_train_features)\n",
        "mnb_train_accuracy = accuracy_score(Y_train, mnb_predicton)"
      ],
      "metadata": {
        "id": "SerVROp0IZk4"
      },
      "execution_count": 31,
      "outputs": []
    },
    {
      "cell_type": "code",
      "source": [
        "mnb_train_accuracy"
      ],
      "metadata": {
        "id": "tSkEpc_QIph7",
        "outputId": "b1927f50-8d6e-43ac-bbbb-052888eb8bf8",
        "colab": {
          "base_uri": "https://localhost:8080/"
        }
      },
      "execution_count": 32,
      "outputs": [
        {
          "output_type": "execute_result",
          "data": {
            "text/plain": [
              "0.9799557382232058"
            ]
          },
          "metadata": {},
          "execution_count": 32
        }
      ]
    },
    {
      "cell_type": "code",
      "source": [
        "#make predictions on test data and calculate accuracy score\n",
        "mnb_prediction = mnb.predict(X_test_features)\n",
        "mnb_test_accuracy = accuracy_score(Y_test, mnb_prediction)"
      ],
      "metadata": {
        "id": "OD1x1b3KIsJL"
      },
      "execution_count": 33,
      "outputs": []
    },
    {
      "cell_type": "code",
      "source": [
        "mnb_test_accuracy"
      ],
      "metadata": {
        "id": "Gn3kQjCgI1ja",
        "outputId": "a0cc36fe-e5cb-4fb0-a130-7981240c7018",
        "colab": {
          "base_uri": "https://localhost:8080/"
        }
      },
      "execution_count": 34,
      "outputs": [
        {
          "output_type": "execute_result",
          "data": {
            "text/plain": [
              "0.9731900094846665"
            ]
          },
          "metadata": {},
          "execution_count": 34
        }
      ]
    },
    {
      "cell_type": "markdown",
      "source": [
        "## **Prediction of email**"
      ],
      "metadata": {
        "id": "b_12fiMQ2sRR"
      }
    },
    {
      "cell_type": "code",
      "source": [
        "input_mail = [\"Greetings! Your ticket for 'Emily In Paris' has been booked for 9PM\",\n",
        "              \"StarsPwn has lunched a new game and we think you can be our testr. Click to dwnload th file\",\n",
        "              \"We recently suspected a malicious activity from this computer. Please clck on the below link to verify your authorization!\"]\n",
        "#convert the text to data\n",
        "input_data_features = feature_extraction.transform(input_mail)\n",
        "\n",
        "#making prediction on logistic model\n",
        "logistic_prediction = model.predict(input_data_features)\n",
        "\n",
        "#making prediction on multinomialNb classifier\n",
        "multinomial_prediction = mnb.predict(input_data_features)"
      ],
      "metadata": {
        "id": "sPVY1--S24CL"
      },
      "execution_count": 35,
      "outputs": []
    },
    {
      "cell_type": "code",
      "source": [
        "logistic_prediction"
      ],
      "metadata": {
        "id": "Sq8RP_TR3rY6",
        "outputId": "fc0009d8-8e4c-4039-cbcd-b16b429a566c",
        "colab": {
          "base_uri": "https://localhost:8080/"
        }
      },
      "execution_count": 36,
      "outputs": [
        {
          "output_type": "execute_result",
          "data": {
            "text/plain": [
              "array([1, 0, 1])"
            ]
          },
          "metadata": {},
          "execution_count": 36
        }
      ]
    },
    {
      "cell_type": "code",
      "source": [
        "multinomial_prediction"
      ],
      "metadata": {
        "id": "1fc6Kq_2JLEu",
        "outputId": "99fc0816-5505-486e-d642-430689d0c795",
        "colab": {
          "base_uri": "https://localhost:8080/"
        }
      },
      "execution_count": 37,
      "outputs": [
        {
          "output_type": "execute_result",
          "data": {
            "text/plain": [
              "array([0, 0, 1])"
            ]
          },
          "metadata": {},
          "execution_count": 37
        }
      ]
    },
    {
      "cell_type": "code",
      "source": [
        "for i in logistic_prediction:\n",
        "  if i==0:\n",
        "    print('Logistic Regression says: Ham')\n",
        "  else:\n",
        "    print('Logistic Regression says: Spam')\n",
        "\n",
        "print()\n",
        "\n",
        "for i in multinomial_prediction:\n",
        "  if i==0:\n",
        "    print('MultinomialNB says: Ham')\n",
        "  else:\n",
        "    print('MultinomialNB says: Spam')"
      ],
      "metadata": {
        "id": "CAQFrkg-3tuv",
        "outputId": "37201666-9a10-47d4-f924-3efc92c2b2d6",
        "colab": {
          "base_uri": "https://localhost:8080/"
        }
      },
      "execution_count": 38,
      "outputs": [
        {
          "output_type": "stream",
          "name": "stdout",
          "text": [
            "Logistic Regression says: Spam\n",
            "Logistic Regression says: Ham\n",
            "Logistic Regression says: Spam\n",
            "\n",
            "MultinomialNB says: Ham\n",
            "MultinomialNB says: Ham\n",
            "MultinomialNB says: Spam\n"
          ]
        }
      ]
    }
  ]
}