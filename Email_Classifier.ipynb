{
  "metadata": {
    "kernelspec": {
      "language": "python",
      "display_name": "Python 3",
      "name": "python3"
    },
    "language_info": {
      "name": "python",
      "version": "3.10.13",
      "mimetype": "text/x-python",
      "codemirror_mode": {
        "name": "ipython",
        "version": 3
      },
      "pygments_lexer": "ipython3",
      "nbconvert_exporter": "python",
      "file_extension": ".py"
    },
    "kaggle": {
      "accelerator": "none",
      "dataSources": [
        {
          "sourceId": 6897944,
          "sourceType": "datasetVersion",
          "datasetId": 3962399
        }
      ],
      "dockerImageVersionId": 30746,
      "isInternetEnabled": false,
      "language": "python",
      "sourceType": "notebook",
      "isGpuEnabled": false
    },
    "colab": {
      "provenance": []
    }
  },
  "nbformat_minor": 0,
  "nbformat": 4,
  "cells": [
    {
      "cell_type": "markdown",
      "source": [
        "# **Email_Classifier**"
      ],
      "metadata": {
        "id": "gaHc2GhEq88d"
      }
    },
    {
      "cell_type": "code",
      "source": [
        "\n",
        "import numpy as np\n",
        "import pandas as pd\n",
        "from sklearn.feature_extraction.text import TfidfVectorizer\n",
        "from sklearn.model_selection import train_test_split\n",
        "from sklearn.linear_model import LogisticRegression\n",
        "from sklearn.metrics import accuracy_score\n"
      ],
      "metadata": {
        "_uuid": "8f2839f25d086af736a60e9eeb907d3b93b6e0e5",
        "_cell_guid": "b1076dfc-b9ad-4769-8c92-a6c4dae69d19",
        "execution": {
          "iopub.status.busy": "2024-07-14T10:19:34.551749Z",
          "iopub.execute_input": "2024-07-14T10:19:34.552165Z",
          "iopub.status.idle": "2024-07-14T10:19:34.587371Z",
          "shell.execute_reply.started": "2024-07-14T10:19:34.552132Z",
          "shell.execute_reply": "2024-07-14T10:19:34.583526Z"
        },
        "trusted": true,
        "id": "sVuxI5YFwc10"
      },
      "execution_count": null,
      "outputs": []
    },
    {
      "cell_type": "code",
      "source": [
        "!mkdir -p ~/.kaggle\n",
        "!cp kaggle.json ~/.kaggle/\n",
        "!chmod 600 ~/.kaggle/kaggle.json\n",
        "!ls ~/.kaggle\n",
        "!kaggle datasets download -d purusinghvi/email-spam-classification-dataset"
      ],
      "metadata": {
        "id": "DPXkyAwfydqf",
        "outputId": "31302868-551f-46a5-f9c1-b4eb8709cd10",
        "colab": {
          "base_uri": "https://localhost:8080/"
        }
      },
      "execution_count": null,
      "outputs": [
        {
          "output_type": "stream",
          "name": "stdout",
          "text": [
            "cp: cannot stat 'kaggle.json': No such file or directory\n",
            "chmod: cannot access '/root/.kaggle/kaggle.json': No such file or directory\n",
            "Dataset URL: https://www.kaggle.com/datasets/purusinghvi/email-spam-classification-dataset\n",
            "License(s): MIT\n",
            "Downloading email-spam-classification-dataset.zip to /content\n",
            " 95% 41.0M/43.0M [00:00<00:00, 73.5MB/s]\n",
            "100% 43.0M/43.0M [00:00<00:00, 66.8MB/s]\n"
          ]
        }
      ]
    },
    {
      "cell_type": "markdown",
      "source": [
        "## **Create a Pandas DataFrame**"
      ],
      "metadata": {
        "id": "WxSSkTAHwc11"
      }
    },
    {
      "cell_type": "code",
      "source": [
        "df = pd.read_csv('/content/email-spam-classification-dataset.zip')\n",
        "df.shape"
      ],
      "metadata": {
        "execution": {
          "iopub.status.busy": "2024-07-14T10:19:34.588594Z",
          "iopub.status.idle": "2024-07-14T10:19:34.589039Z",
          "shell.execute_reply.started": "2024-07-14T10:19:34.588817Z",
          "shell.execute_reply": "2024-07-14T10:19:34.588834Z"
        },
        "trusted": true,
        "id": "Vs_lj-Kkwc12",
        "outputId": "5defd6c9-9653-4a9f-ed2e-ff3f2be39e60",
        "colab": {
          "base_uri": "https://localhost:8080/"
        }
      },
      "execution_count": null,
      "outputs": [
        {
          "output_type": "execute_result",
          "data": {
            "text/plain": [
              "(83448, 2)"
            ]
          },
          "metadata": {},
          "execution_count": 3
        }
      ]
    },
    {
      "cell_type": "markdown",
      "source": [
        "## **Separating Data for Analysis**"
      ],
      "metadata": {
        "id": "Bbd4R2E8wc12"
      }
    },
    {
      "cell_type": "code",
      "source": [
        "#check the number of null values and columns\n",
        "df.isnull().sum()"
      ],
      "metadata": {
        "execution": {
          "iopub.status.busy": "2024-07-14T10:19:34.590517Z",
          "iopub.status.idle": "2024-07-14T10:19:34.591033Z",
          "shell.execute_reply.started": "2024-07-14T10:19:34.59078Z",
          "shell.execute_reply": "2024-07-14T10:19:34.590801Z"
        },
        "trusted": true,
        "id": "cIZJGr_nwc12",
        "outputId": "e734bd2d-bfec-411a-a398-073e489bd74f",
        "colab": {
          "base_uri": "https://localhost:8080/"
        }
      },
      "execution_count": null,
      "outputs": [
        {
          "output_type": "execute_result",
          "data": {
            "text/plain": [
              "label    0\n",
              "text     0\n",
              "dtype: int64"
            ]
          },
          "metadata": {},
          "execution_count": 4
        }
      ]
    },
    {
      "cell_type": "code",
      "source": [
        "#check the data availabel for spam and ham\n",
        "ham = df[df.label == 0]\n",
        "spam = df[df.label == 1]\n",
        "ham.shape"
      ],
      "metadata": {
        "execution": {
          "iopub.status.busy": "2024-07-14T10:19:34.593277Z",
          "iopub.status.idle": "2024-07-14T10:19:34.593706Z",
          "shell.execute_reply.started": "2024-07-14T10:19:34.593516Z",
          "shell.execute_reply": "2024-07-14T10:19:34.593534Z"
        },
        "trusted": true,
        "id": "rWRBLqnjwc12",
        "outputId": "8acc8960-9652-4a6b-ac58-4f436d230040",
        "colab": {
          "base_uri": "https://localhost:8080/"
        }
      },
      "execution_count": null,
      "outputs": [
        {
          "output_type": "execute_result",
          "data": {
            "text/plain": [
              "(39538, 2)"
            ]
          },
          "metadata": {},
          "execution_count": 5
        }
      ]
    },
    {
      "cell_type": "code",
      "source": [
        "spam.shape"
      ],
      "metadata": {
        "execution": {
          "iopub.status.busy": "2024-07-14T10:19:34.595239Z",
          "iopub.status.idle": "2024-07-14T10:19:34.595703Z",
          "shell.execute_reply.started": "2024-07-14T10:19:34.595498Z",
          "shell.execute_reply": "2024-07-14T10:19:34.595517Z"
        },
        "trusted": true,
        "id": "CVdngigbwc13",
        "outputId": "75f900db-2186-4495-9baf-5481f17439a5",
        "colab": {
          "base_uri": "https://localhost:8080/"
        }
      },
      "execution_count": null,
      "outputs": [
        {
          "output_type": "execute_result",
          "data": {
            "text/plain": [
              "(43910, 2)"
            ]
          },
          "metadata": {},
          "execution_count": 6
        }
      ]
    },
    {
      "cell_type": "markdown",
      "source": [
        "## **Under Sampling Spam Data for better predictions**"
      ],
      "metadata": {
        "id": "5LSUBCB5wc13"
      }
    },
    {
      "cell_type": "code",
      "source": [
        "spam_sample = spam.sample(n=39537)\n",
        "spam_sample"
      ],
      "metadata": {
        "execution": {
          "iopub.status.busy": "2024-07-14T10:19:34.597394Z",
          "iopub.status.idle": "2024-07-14T10:19:34.597811Z",
          "shell.execute_reply.started": "2024-07-14T10:19:34.597627Z",
          "shell.execute_reply": "2024-07-14T10:19:34.597644Z"
        },
        "trusted": true,
        "id": "jsL5AKbrwc13",
        "outputId": "3ddfd1de-93a0-4062-9bdd-c6e9f4c842a2",
        "colab": {
          "base_uri": "https://localhost:8080/",
          "height": 423
        }
      },
      "execution_count": null,
      "outputs": [
        {
          "output_type": "execute_result",
          "data": {
            "text/plain": [
              "       label                                               text\n",
              "43188      1  vip repl ai ica wat pw ches if you are looking...\n",
              "29600      1  strong pleasesisal velasquez felicitousneater\\...\n",
              "68843      1  we don  t need to praise that we sell !\\nwe h...\n",
              "7586       1  using the speed and user - friendliness of the...\n",
              "64389      1  when i am heard and what i say is solelyclear ...\n",
              "...      ...                                                ...\n",
              "48356      1  slowly the change of thanks having lit she had...\n",
              "62256      1  thinking of breathing new life into your busin...\n",
              "51516      1  over 300 , 000 males in the world used our pro...\n",
              "68077      1  dear sirs aegis capital group llc aegis is a...\n",
              "5206       1  doheny miles anderson col aidan dempsey alex r...\n",
              "\n",
              "[39537 rows x 2 columns]"
            ],
            "text/html": [
              "\n",
              "  <div id=\"df-251da0c1-52b5-46c2-933f-dfe61d88fc1a\" class=\"colab-df-container\">\n",
              "    <div>\n",
              "<style scoped>\n",
              "    .dataframe tbody tr th:only-of-type {\n",
              "        vertical-align: middle;\n",
              "    }\n",
              "\n",
              "    .dataframe tbody tr th {\n",
              "        vertical-align: top;\n",
              "    }\n",
              "\n",
              "    .dataframe thead th {\n",
              "        text-align: right;\n",
              "    }\n",
              "</style>\n",
              "<table border=\"1\" class=\"dataframe\">\n",
              "  <thead>\n",
              "    <tr style=\"text-align: right;\">\n",
              "      <th></th>\n",
              "      <th>label</th>\n",
              "      <th>text</th>\n",
              "    </tr>\n",
              "  </thead>\n",
              "  <tbody>\n",
              "    <tr>\n",
              "      <th>43188</th>\n",
              "      <td>1</td>\n",
              "      <td>vip repl ai ica wat pw ches if you are looking...</td>\n",
              "    </tr>\n",
              "    <tr>\n",
              "      <th>29600</th>\n",
              "      <td>1</td>\n",
              "      <td>strong pleasesisal velasquez felicitousneater\\...</td>\n",
              "    </tr>\n",
              "    <tr>\n",
              "      <th>68843</th>\n",
              "      <td>1</td>\n",
              "      <td>we don  t need to praise that we sell !\\nwe h...</td>\n",
              "    </tr>\n",
              "    <tr>\n",
              "      <th>7586</th>\n",
              "      <td>1</td>\n",
              "      <td>using the speed and user - friendliness of the...</td>\n",
              "    </tr>\n",
              "    <tr>\n",
              "      <th>64389</th>\n",
              "      <td>1</td>\n",
              "      <td>when i am heard and what i say is solelyclear ...</td>\n",
              "    </tr>\n",
              "    <tr>\n",
              "      <th>...</th>\n",
              "      <td>...</td>\n",
              "      <td>...</td>\n",
              "    </tr>\n",
              "    <tr>\n",
              "      <th>48356</th>\n",
              "      <td>1</td>\n",
              "      <td>slowly the change of thanks having lit she had...</td>\n",
              "    </tr>\n",
              "    <tr>\n",
              "      <th>62256</th>\n",
              "      <td>1</td>\n",
              "      <td>thinking of breathing new life into your busin...</td>\n",
              "    </tr>\n",
              "    <tr>\n",
              "      <th>51516</th>\n",
              "      <td>1</td>\n",
              "      <td>over 300 , 000 males in the world used our pro...</td>\n",
              "    </tr>\n",
              "    <tr>\n",
              "      <th>68077</th>\n",
              "      <td>1</td>\n",
              "      <td>dear sirs aegis capital group llc aegis is a...</td>\n",
              "    </tr>\n",
              "    <tr>\n",
              "      <th>5206</th>\n",
              "      <td>1</td>\n",
              "      <td>doheny miles anderson col aidan dempsey alex r...</td>\n",
              "    </tr>\n",
              "  </tbody>\n",
              "</table>\n",
              "<p>39537 rows × 2 columns</p>\n",
              "</div>\n",
              "    <div class=\"colab-df-buttons\">\n",
              "\n",
              "  <div class=\"colab-df-container\">\n",
              "    <button class=\"colab-df-convert\" onclick=\"convertToInteractive('df-251da0c1-52b5-46c2-933f-dfe61d88fc1a')\"\n",
              "            title=\"Convert this dataframe to an interactive table.\"\n",
              "            style=\"display:none;\">\n",
              "\n",
              "  <svg xmlns=\"http://www.w3.org/2000/svg\" height=\"24px\" viewBox=\"0 -960 960 960\">\n",
              "    <path d=\"M120-120v-720h720v720H120Zm60-500h600v-160H180v160Zm220 220h160v-160H400v160Zm0 220h160v-160H400v160ZM180-400h160v-160H180v160Zm440 0h160v-160H620v160ZM180-180h160v-160H180v160Zm440 0h160v-160H620v160Z\"/>\n",
              "  </svg>\n",
              "    </button>\n",
              "\n",
              "  <style>\n",
              "    .colab-df-container {\n",
              "      display:flex;\n",
              "      gap: 12px;\n",
              "    }\n",
              "\n",
              "    .colab-df-convert {\n",
              "      background-color: #E8F0FE;\n",
              "      border: none;\n",
              "      border-radius: 50%;\n",
              "      cursor: pointer;\n",
              "      display: none;\n",
              "      fill: #1967D2;\n",
              "      height: 32px;\n",
              "      padding: 0 0 0 0;\n",
              "      width: 32px;\n",
              "    }\n",
              "\n",
              "    .colab-df-convert:hover {\n",
              "      background-color: #E2EBFA;\n",
              "      box-shadow: 0px 1px 2px rgba(60, 64, 67, 0.3), 0px 1px 3px 1px rgba(60, 64, 67, 0.15);\n",
              "      fill: #174EA6;\n",
              "    }\n",
              "\n",
              "    .colab-df-buttons div {\n",
              "      margin-bottom: 4px;\n",
              "    }\n",
              "\n",
              "    [theme=dark] .colab-df-convert {\n",
              "      background-color: #3B4455;\n",
              "      fill: #D2E3FC;\n",
              "    }\n",
              "\n",
              "    [theme=dark] .colab-df-convert:hover {\n",
              "      background-color: #434B5C;\n",
              "      box-shadow: 0px 1px 3px 1px rgba(0, 0, 0, 0.15);\n",
              "      filter: drop-shadow(0px 1px 2px rgba(0, 0, 0, 0.3));\n",
              "      fill: #FFFFFF;\n",
              "    }\n",
              "  </style>\n",
              "\n",
              "    <script>\n",
              "      const buttonEl =\n",
              "        document.querySelector('#df-251da0c1-52b5-46c2-933f-dfe61d88fc1a button.colab-df-convert');\n",
              "      buttonEl.style.display =\n",
              "        google.colab.kernel.accessAllowed ? 'block' : 'none';\n",
              "\n",
              "      async function convertToInteractive(key) {\n",
              "        const element = document.querySelector('#df-251da0c1-52b5-46c2-933f-dfe61d88fc1a');\n",
              "        const dataTable =\n",
              "          await google.colab.kernel.invokeFunction('convertToInteractive',\n",
              "                                                    [key], {});\n",
              "        if (!dataTable) return;\n",
              "\n",
              "        const docLinkHtml = 'Like what you see? Visit the ' +\n",
              "          '<a target=\"_blank\" href=https://colab.research.google.com/notebooks/data_table.ipynb>data table notebook</a>'\n",
              "          + ' to learn more about interactive tables.';\n",
              "        element.innerHTML = '';\n",
              "        dataTable['output_type'] = 'display_data';\n",
              "        await google.colab.output.renderOutput(dataTable, element);\n",
              "        const docLink = document.createElement('div');\n",
              "        docLink.innerHTML = docLinkHtml;\n",
              "        element.appendChild(docLink);\n",
              "      }\n",
              "    </script>\n",
              "  </div>\n",
              "\n",
              "\n",
              "<div id=\"df-80ce64db-642d-44b5-823f-b4d0e56760c5\">\n",
              "  <button class=\"colab-df-quickchart\" onclick=\"quickchart('df-80ce64db-642d-44b5-823f-b4d0e56760c5')\"\n",
              "            title=\"Suggest charts\"\n",
              "            style=\"display:none;\">\n",
              "\n",
              "<svg xmlns=\"http://www.w3.org/2000/svg\" height=\"24px\"viewBox=\"0 0 24 24\"\n",
              "     width=\"24px\">\n",
              "    <g>\n",
              "        <path d=\"M19 3H5c-1.1 0-2 .9-2 2v14c0 1.1.9 2 2 2h14c1.1 0 2-.9 2-2V5c0-1.1-.9-2-2-2zM9 17H7v-7h2v7zm4 0h-2V7h2v10zm4 0h-2v-4h2v4z\"/>\n",
              "    </g>\n",
              "</svg>\n",
              "  </button>\n",
              "\n",
              "<style>\n",
              "  .colab-df-quickchart {\n",
              "      --bg-color: #E8F0FE;\n",
              "      --fill-color: #1967D2;\n",
              "      --hover-bg-color: #E2EBFA;\n",
              "      --hover-fill-color: #174EA6;\n",
              "      --disabled-fill-color: #AAA;\n",
              "      --disabled-bg-color: #DDD;\n",
              "  }\n",
              "\n",
              "  [theme=dark] .colab-df-quickchart {\n",
              "      --bg-color: #3B4455;\n",
              "      --fill-color: #D2E3FC;\n",
              "      --hover-bg-color: #434B5C;\n",
              "      --hover-fill-color: #FFFFFF;\n",
              "      --disabled-bg-color: #3B4455;\n",
              "      --disabled-fill-color: #666;\n",
              "  }\n",
              "\n",
              "  .colab-df-quickchart {\n",
              "    background-color: var(--bg-color);\n",
              "    border: none;\n",
              "    border-radius: 50%;\n",
              "    cursor: pointer;\n",
              "    display: none;\n",
              "    fill: var(--fill-color);\n",
              "    height: 32px;\n",
              "    padding: 0;\n",
              "    width: 32px;\n",
              "  }\n",
              "\n",
              "  .colab-df-quickchart:hover {\n",
              "    background-color: var(--hover-bg-color);\n",
              "    box-shadow: 0 1px 2px rgba(60, 64, 67, 0.3), 0 1px 3px 1px rgba(60, 64, 67, 0.15);\n",
              "    fill: var(--button-hover-fill-color);\n",
              "  }\n",
              "\n",
              "  .colab-df-quickchart-complete:disabled,\n",
              "  .colab-df-quickchart-complete:disabled:hover {\n",
              "    background-color: var(--disabled-bg-color);\n",
              "    fill: var(--disabled-fill-color);\n",
              "    box-shadow: none;\n",
              "  }\n",
              "\n",
              "  .colab-df-spinner {\n",
              "    border: 2px solid var(--fill-color);\n",
              "    border-color: transparent;\n",
              "    border-bottom-color: var(--fill-color);\n",
              "    animation:\n",
              "      spin 1s steps(1) infinite;\n",
              "  }\n",
              "\n",
              "  @keyframes spin {\n",
              "    0% {\n",
              "      border-color: transparent;\n",
              "      border-bottom-color: var(--fill-color);\n",
              "      border-left-color: var(--fill-color);\n",
              "    }\n",
              "    20% {\n",
              "      border-color: transparent;\n",
              "      border-left-color: var(--fill-color);\n",
              "      border-top-color: var(--fill-color);\n",
              "    }\n",
              "    30% {\n",
              "      border-color: transparent;\n",
              "      border-left-color: var(--fill-color);\n",
              "      border-top-color: var(--fill-color);\n",
              "      border-right-color: var(--fill-color);\n",
              "    }\n",
              "    40% {\n",
              "      border-color: transparent;\n",
              "      border-right-color: var(--fill-color);\n",
              "      border-top-color: var(--fill-color);\n",
              "    }\n",
              "    60% {\n",
              "      border-color: transparent;\n",
              "      border-right-color: var(--fill-color);\n",
              "    }\n",
              "    80% {\n",
              "      border-color: transparent;\n",
              "      border-right-color: var(--fill-color);\n",
              "      border-bottom-color: var(--fill-color);\n",
              "    }\n",
              "    90% {\n",
              "      border-color: transparent;\n",
              "      border-bottom-color: var(--fill-color);\n",
              "    }\n",
              "  }\n",
              "</style>\n",
              "\n",
              "  <script>\n",
              "    async function quickchart(key) {\n",
              "      const quickchartButtonEl =\n",
              "        document.querySelector('#' + key + ' button');\n",
              "      quickchartButtonEl.disabled = true;  // To prevent multiple clicks.\n",
              "      quickchartButtonEl.classList.add('colab-df-spinner');\n",
              "      try {\n",
              "        const charts = await google.colab.kernel.invokeFunction(\n",
              "            'suggestCharts', [key], {});\n",
              "      } catch (error) {\n",
              "        console.error('Error during call to suggestCharts:', error);\n",
              "      }\n",
              "      quickchartButtonEl.classList.remove('colab-df-spinner');\n",
              "      quickchartButtonEl.classList.add('colab-df-quickchart-complete');\n",
              "    }\n",
              "    (() => {\n",
              "      let quickchartButtonEl =\n",
              "        document.querySelector('#df-80ce64db-642d-44b5-823f-b4d0e56760c5 button');\n",
              "      quickchartButtonEl.style.display =\n",
              "        google.colab.kernel.accessAllowed ? 'block' : 'none';\n",
              "    })();\n",
              "  </script>\n",
              "</div>\n",
              "\n",
              "  <div id=\"id_60ecd9b1-137d-472c-8a4e-bdb8e114d4fb\">\n",
              "    <style>\n",
              "      .colab-df-generate {\n",
              "        background-color: #E8F0FE;\n",
              "        border: none;\n",
              "        border-radius: 50%;\n",
              "        cursor: pointer;\n",
              "        display: none;\n",
              "        fill: #1967D2;\n",
              "        height: 32px;\n",
              "        padding: 0 0 0 0;\n",
              "        width: 32px;\n",
              "      }\n",
              "\n",
              "      .colab-df-generate:hover {\n",
              "        background-color: #E2EBFA;\n",
              "        box-shadow: 0px 1px 2px rgba(60, 64, 67, 0.3), 0px 1px 3px 1px rgba(60, 64, 67, 0.15);\n",
              "        fill: #174EA6;\n",
              "      }\n",
              "\n",
              "      [theme=dark] .colab-df-generate {\n",
              "        background-color: #3B4455;\n",
              "        fill: #D2E3FC;\n",
              "      }\n",
              "\n",
              "      [theme=dark] .colab-df-generate:hover {\n",
              "        background-color: #434B5C;\n",
              "        box-shadow: 0px 1px 3px 1px rgba(0, 0, 0, 0.15);\n",
              "        filter: drop-shadow(0px 1px 2px rgba(0, 0, 0, 0.3));\n",
              "        fill: #FFFFFF;\n",
              "      }\n",
              "    </style>\n",
              "    <button class=\"colab-df-generate\" onclick=\"generateWithVariable('spam_sample')\"\n",
              "            title=\"Generate code using this dataframe.\"\n",
              "            style=\"display:none;\">\n",
              "\n",
              "  <svg xmlns=\"http://www.w3.org/2000/svg\" height=\"24px\"viewBox=\"0 0 24 24\"\n",
              "       width=\"24px\">\n",
              "    <path d=\"M7,19H8.4L18.45,9,17,7.55,7,17.6ZM5,21V16.75L18.45,3.32a2,2,0,0,1,2.83,0l1.4,1.43a1.91,1.91,0,0,1,.58,1.4,1.91,1.91,0,0,1-.58,1.4L9.25,21ZM18.45,9,17,7.55Zm-12,3A5.31,5.31,0,0,0,4.9,8.1,5.31,5.31,0,0,0,1,6.5,5.31,5.31,0,0,0,4.9,4.9,5.31,5.31,0,0,0,6.5,1,5.31,5.31,0,0,0,8.1,4.9,5.31,5.31,0,0,0,12,6.5,5.46,5.46,0,0,0,6.5,12Z\"/>\n",
              "  </svg>\n",
              "    </button>\n",
              "    <script>\n",
              "      (() => {\n",
              "      const buttonEl =\n",
              "        document.querySelector('#id_60ecd9b1-137d-472c-8a4e-bdb8e114d4fb button.colab-df-generate');\n",
              "      buttonEl.style.display =\n",
              "        google.colab.kernel.accessAllowed ? 'block' : 'none';\n",
              "\n",
              "      buttonEl.onclick = () => {\n",
              "        google.colab.notebook.generateWithVariable('spam_sample');\n",
              "      }\n",
              "      })();\n",
              "    </script>\n",
              "  </div>\n",
              "\n",
              "    </div>\n",
              "  </div>\n"
            ],
            "application/vnd.google.colaboratory.intrinsic+json": {
              "type": "dataframe",
              "variable_name": "spam_sample",
              "summary": "{\n  \"name\": \"spam_sample\",\n  \"rows\": 39537,\n  \"fields\": [\n    {\n      \"column\": \"label\",\n      \"properties\": {\n        \"dtype\": \"number\",\n        \"std\": 0,\n        \"min\": 1,\n        \"max\": 1,\n        \"num_unique_values\": 1,\n        \"samples\": [\n          1\n        ],\n        \"semantic_type\": \"\",\n        \"description\": \"\"\n      }\n    },\n    {\n      \"column\": \"text\",\n      \"properties\": {\n        \"dtype\": \"string\",\n        \"num_unique_values\": 39537,\n        \"samples\": [\n          \"useful for your individual and business investigation needs :\\nget the truth about anyone and anything ?\\nover the internet\\nplease\\nclick on this link for more information .\\nfinally find ,\\ntrack and learn anything about\\nanyone just like a professional private eye , but without a license !\\nfind\\npeople\\nwho have moved or changed their name . identify addresses , phone numbers ,\\np . o . boxes .\\nlocate\\nrelatives ,\\nold friends or your deadbeat spouse you haven ' t seen in more than a\\ndecade .\\nexercise\\nyour rights check public records and obtain fbi ,\\ncia and other government documents .\\nperform\\ndo - it - yourself\\nbackground checks as often as you like , through the , freedom of\\ninformation\\nact .\\ncheck the\\nlicenses ,\\nqualifications and disciplinary\\nrecords of doctors , lawyers , accountants , contractors .\\ndetect\\nthe identity\\nof birthparents or\\nchildren given up for adoption as well as their current whereabouts .\\nlearn\\nabout\\nprevious lawsuits , hidden assets , concealed\\nownership , tax liens , court judgments , criminal records , death ,\\nmarriage , birth , divorse records and more . . .\\neveryone needs a copy of this program . it ' s like having a gateway to a\\nvirtual\\ninvestigative library through your own computer .\\nwith\\nthe most talked about software on the net . . . internet detective 7 . 5\\nyou\\ncan verify anyone ' s income , assets , education , employment history and\\nbrushes\\nwith the law . unearth your own family secrets and check your credit report .\\ntrack someone down from a phone number , license plate , alias or s / s\\nnumber ,\\nand much more . . .\\nplease\\nclick on this link for more information .\\nclick here\\nto be removed from our mailing list .\"\n        ],\n        \"semantic_type\": \"\",\n        \"description\": \"\"\n      }\n    }\n  ]\n}"
            }
          },
          "metadata": {},
          "execution_count": 7
        }
      ]
    },
    {
      "cell_type": "code",
      "source": [
        "# concatenate the ham and spam_sample data to form a new dataframe with even divisions of ham and spam data along row axis=0\n",
        "new_df = pd.concat([ham, spam_sample], axis=0)\n",
        "new_df"
      ],
      "metadata": {
        "execution": {
          "iopub.status.busy": "2024-07-14T10:19:34.599237Z",
          "iopub.status.idle": "2024-07-14T10:19:34.599675Z",
          "shell.execute_reply.started": "2024-07-14T10:19:34.59948Z",
          "shell.execute_reply": "2024-07-14T10:19:34.599502Z"
        },
        "trusted": true,
        "id": "A7TrAlINwc13",
        "outputId": "44cad2fa-8775-4010-d643-48b9ebf29b7f",
        "colab": {
          "base_uri": "https://localhost:8080/",
          "height": 423
        }
      },
      "execution_count": null,
      "outputs": [
        {
          "output_type": "execute_result",
          "data": {
            "text/plain": [
              "       label                                               text\n",
              "2          0   computer connection from cnn com wednesday es...\n",
              "4          0  thanks for all your answers guys i know i shou...\n",
              "5          0  larry king live at escapenumber escapenumber p...\n",
              "6          0  michael pobega wrote i'm not sure if it's the ...\n",
              "7          0  hi i have this error tr sample escapenumber es...\n",
              "...      ...                                                ...\n",
              "48356      1  slowly the change of thanks having lit she had...\n",
              "62256      1  thinking of breathing new life into your busin...\n",
              "51516      1  over 300 , 000 males in the world used our pro...\n",
              "68077      1  dear sirs aegis capital group llc aegis is a...\n",
              "5206       1  doheny miles anderson col aidan dempsey alex r...\n",
              "\n",
              "[79075 rows x 2 columns]"
            ],
            "text/html": [
              "\n",
              "  <div id=\"df-91ac358c-6d42-4f9c-9690-72e0150a6e50\" class=\"colab-df-container\">\n",
              "    <div>\n",
              "<style scoped>\n",
              "    .dataframe tbody tr th:only-of-type {\n",
              "        vertical-align: middle;\n",
              "    }\n",
              "\n",
              "    .dataframe tbody tr th {\n",
              "        vertical-align: top;\n",
              "    }\n",
              "\n",
              "    .dataframe thead th {\n",
              "        text-align: right;\n",
              "    }\n",
              "</style>\n",
              "<table border=\"1\" class=\"dataframe\">\n",
              "  <thead>\n",
              "    <tr style=\"text-align: right;\">\n",
              "      <th></th>\n",
              "      <th>label</th>\n",
              "      <th>text</th>\n",
              "    </tr>\n",
              "  </thead>\n",
              "  <tbody>\n",
              "    <tr>\n",
              "      <th>2</th>\n",
              "      <td>0</td>\n",
              "      <td>computer connection from cnn com wednesday es...</td>\n",
              "    </tr>\n",
              "    <tr>\n",
              "      <th>4</th>\n",
              "      <td>0</td>\n",
              "      <td>thanks for all your answers guys i know i shou...</td>\n",
              "    </tr>\n",
              "    <tr>\n",
              "      <th>5</th>\n",
              "      <td>0</td>\n",
              "      <td>larry king live at escapenumber escapenumber p...</td>\n",
              "    </tr>\n",
              "    <tr>\n",
              "      <th>6</th>\n",
              "      <td>0</td>\n",
              "      <td>michael pobega wrote i'm not sure if it's the ...</td>\n",
              "    </tr>\n",
              "    <tr>\n",
              "      <th>7</th>\n",
              "      <td>0</td>\n",
              "      <td>hi i have this error tr sample escapenumber es...</td>\n",
              "    </tr>\n",
              "    <tr>\n",
              "      <th>...</th>\n",
              "      <td>...</td>\n",
              "      <td>...</td>\n",
              "    </tr>\n",
              "    <tr>\n",
              "      <th>48356</th>\n",
              "      <td>1</td>\n",
              "      <td>slowly the change of thanks having lit she had...</td>\n",
              "    </tr>\n",
              "    <tr>\n",
              "      <th>62256</th>\n",
              "      <td>1</td>\n",
              "      <td>thinking of breathing new life into your busin...</td>\n",
              "    </tr>\n",
              "    <tr>\n",
              "      <th>51516</th>\n",
              "      <td>1</td>\n",
              "      <td>over 300 , 000 males in the world used our pro...</td>\n",
              "    </tr>\n",
              "    <tr>\n",
              "      <th>68077</th>\n",
              "      <td>1</td>\n",
              "      <td>dear sirs aegis capital group llc aegis is a...</td>\n",
              "    </tr>\n",
              "    <tr>\n",
              "      <th>5206</th>\n",
              "      <td>1</td>\n",
              "      <td>doheny miles anderson col aidan dempsey alex r...</td>\n",
              "    </tr>\n",
              "  </tbody>\n",
              "</table>\n",
              "<p>79075 rows × 2 columns</p>\n",
              "</div>\n",
              "    <div class=\"colab-df-buttons\">\n",
              "\n",
              "  <div class=\"colab-df-container\">\n",
              "    <button class=\"colab-df-convert\" onclick=\"convertToInteractive('df-91ac358c-6d42-4f9c-9690-72e0150a6e50')\"\n",
              "            title=\"Convert this dataframe to an interactive table.\"\n",
              "            style=\"display:none;\">\n",
              "\n",
              "  <svg xmlns=\"http://www.w3.org/2000/svg\" height=\"24px\" viewBox=\"0 -960 960 960\">\n",
              "    <path d=\"M120-120v-720h720v720H120Zm60-500h600v-160H180v160Zm220 220h160v-160H400v160Zm0 220h160v-160H400v160ZM180-400h160v-160H180v160Zm440 0h160v-160H620v160ZM180-180h160v-160H180v160Zm440 0h160v-160H620v160Z\"/>\n",
              "  </svg>\n",
              "    </button>\n",
              "\n",
              "  <style>\n",
              "    .colab-df-container {\n",
              "      display:flex;\n",
              "      gap: 12px;\n",
              "    }\n",
              "\n",
              "    .colab-df-convert {\n",
              "      background-color: #E8F0FE;\n",
              "      border: none;\n",
              "      border-radius: 50%;\n",
              "      cursor: pointer;\n",
              "      display: none;\n",
              "      fill: #1967D2;\n",
              "      height: 32px;\n",
              "      padding: 0 0 0 0;\n",
              "      width: 32px;\n",
              "    }\n",
              "\n",
              "    .colab-df-convert:hover {\n",
              "      background-color: #E2EBFA;\n",
              "      box-shadow: 0px 1px 2px rgba(60, 64, 67, 0.3), 0px 1px 3px 1px rgba(60, 64, 67, 0.15);\n",
              "      fill: #174EA6;\n",
              "    }\n",
              "\n",
              "    .colab-df-buttons div {\n",
              "      margin-bottom: 4px;\n",
              "    }\n",
              "\n",
              "    [theme=dark] .colab-df-convert {\n",
              "      background-color: #3B4455;\n",
              "      fill: #D2E3FC;\n",
              "    }\n",
              "\n",
              "    [theme=dark] .colab-df-convert:hover {\n",
              "      background-color: #434B5C;\n",
              "      box-shadow: 0px 1px 3px 1px rgba(0, 0, 0, 0.15);\n",
              "      filter: drop-shadow(0px 1px 2px rgba(0, 0, 0, 0.3));\n",
              "      fill: #FFFFFF;\n",
              "    }\n",
              "  </style>\n",
              "\n",
              "    <script>\n",
              "      const buttonEl =\n",
              "        document.querySelector('#df-91ac358c-6d42-4f9c-9690-72e0150a6e50 button.colab-df-convert');\n",
              "      buttonEl.style.display =\n",
              "        google.colab.kernel.accessAllowed ? 'block' : 'none';\n",
              "\n",
              "      async function convertToInteractive(key) {\n",
              "        const element = document.querySelector('#df-91ac358c-6d42-4f9c-9690-72e0150a6e50');\n",
              "        const dataTable =\n",
              "          await google.colab.kernel.invokeFunction('convertToInteractive',\n",
              "                                                    [key], {});\n",
              "        if (!dataTable) return;\n",
              "\n",
              "        const docLinkHtml = 'Like what you see? Visit the ' +\n",
              "          '<a target=\"_blank\" href=https://colab.research.google.com/notebooks/data_table.ipynb>data table notebook</a>'\n",
              "          + ' to learn more about interactive tables.';\n",
              "        element.innerHTML = '';\n",
              "        dataTable['output_type'] = 'display_data';\n",
              "        await google.colab.output.renderOutput(dataTable, element);\n",
              "        const docLink = document.createElement('div');\n",
              "        docLink.innerHTML = docLinkHtml;\n",
              "        element.appendChild(docLink);\n",
              "      }\n",
              "    </script>\n",
              "  </div>\n",
              "\n",
              "\n",
              "<div id=\"df-b5cb87b5-aac9-4c1e-9aa2-d443600f749e\">\n",
              "  <button class=\"colab-df-quickchart\" onclick=\"quickchart('df-b5cb87b5-aac9-4c1e-9aa2-d443600f749e')\"\n",
              "            title=\"Suggest charts\"\n",
              "            style=\"display:none;\">\n",
              "\n",
              "<svg xmlns=\"http://www.w3.org/2000/svg\" height=\"24px\"viewBox=\"0 0 24 24\"\n",
              "     width=\"24px\">\n",
              "    <g>\n",
              "        <path d=\"M19 3H5c-1.1 0-2 .9-2 2v14c0 1.1.9 2 2 2h14c1.1 0 2-.9 2-2V5c0-1.1-.9-2-2-2zM9 17H7v-7h2v7zm4 0h-2V7h2v10zm4 0h-2v-4h2v4z\"/>\n",
              "    </g>\n",
              "</svg>\n",
              "  </button>\n",
              "\n",
              "<style>\n",
              "  .colab-df-quickchart {\n",
              "      --bg-color: #E8F0FE;\n",
              "      --fill-color: #1967D2;\n",
              "      --hover-bg-color: #E2EBFA;\n",
              "      --hover-fill-color: #174EA6;\n",
              "      --disabled-fill-color: #AAA;\n",
              "      --disabled-bg-color: #DDD;\n",
              "  }\n",
              "\n",
              "  [theme=dark] .colab-df-quickchart {\n",
              "      --bg-color: #3B4455;\n",
              "      --fill-color: #D2E3FC;\n",
              "      --hover-bg-color: #434B5C;\n",
              "      --hover-fill-color: #FFFFFF;\n",
              "      --disabled-bg-color: #3B4455;\n",
              "      --disabled-fill-color: #666;\n",
              "  }\n",
              "\n",
              "  .colab-df-quickchart {\n",
              "    background-color: var(--bg-color);\n",
              "    border: none;\n",
              "    border-radius: 50%;\n",
              "    cursor: pointer;\n",
              "    display: none;\n",
              "    fill: var(--fill-color);\n",
              "    height: 32px;\n",
              "    padding: 0;\n",
              "    width: 32px;\n",
              "  }\n",
              "\n",
              "  .colab-df-quickchart:hover {\n",
              "    background-color: var(--hover-bg-color);\n",
              "    box-shadow: 0 1px 2px rgba(60, 64, 67, 0.3), 0 1px 3px 1px rgba(60, 64, 67, 0.15);\n",
              "    fill: var(--button-hover-fill-color);\n",
              "  }\n",
              "\n",
              "  .colab-df-quickchart-complete:disabled,\n",
              "  .colab-df-quickchart-complete:disabled:hover {\n",
              "    background-color: var(--disabled-bg-color);\n",
              "    fill: var(--disabled-fill-color);\n",
              "    box-shadow: none;\n",
              "  }\n",
              "\n",
              "  .colab-df-spinner {\n",
              "    border: 2px solid var(--fill-color);\n",
              "    border-color: transparent;\n",
              "    border-bottom-color: var(--fill-color);\n",
              "    animation:\n",
              "      spin 1s steps(1) infinite;\n",
              "  }\n",
              "\n",
              "  @keyframes spin {\n",
              "    0% {\n",
              "      border-color: transparent;\n",
              "      border-bottom-color: var(--fill-color);\n",
              "      border-left-color: var(--fill-color);\n",
              "    }\n",
              "    20% {\n",
              "      border-color: transparent;\n",
              "      border-left-color: var(--fill-color);\n",
              "      border-top-color: var(--fill-color);\n",
              "    }\n",
              "    30% {\n",
              "      border-color: transparent;\n",
              "      border-left-color: var(--fill-color);\n",
              "      border-top-color: var(--fill-color);\n",
              "      border-right-color: var(--fill-color);\n",
              "    }\n",
              "    40% {\n",
              "      border-color: transparent;\n",
              "      border-right-color: var(--fill-color);\n",
              "      border-top-color: var(--fill-color);\n",
              "    }\n",
              "    60% {\n",
              "      border-color: transparent;\n",
              "      border-right-color: var(--fill-color);\n",
              "    }\n",
              "    80% {\n",
              "      border-color: transparent;\n",
              "      border-right-color: var(--fill-color);\n",
              "      border-bottom-color: var(--fill-color);\n",
              "    }\n",
              "    90% {\n",
              "      border-color: transparent;\n",
              "      border-bottom-color: var(--fill-color);\n",
              "    }\n",
              "  }\n",
              "</style>\n",
              "\n",
              "  <script>\n",
              "    async function quickchart(key) {\n",
              "      const quickchartButtonEl =\n",
              "        document.querySelector('#' + key + ' button');\n",
              "      quickchartButtonEl.disabled = true;  // To prevent multiple clicks.\n",
              "      quickchartButtonEl.classList.add('colab-df-spinner');\n",
              "      try {\n",
              "        const charts = await google.colab.kernel.invokeFunction(\n",
              "            'suggestCharts', [key], {});\n",
              "      } catch (error) {\n",
              "        console.error('Error during call to suggestCharts:', error);\n",
              "      }\n",
              "      quickchartButtonEl.classList.remove('colab-df-spinner');\n",
              "      quickchartButtonEl.classList.add('colab-df-quickchart-complete');\n",
              "    }\n",
              "    (() => {\n",
              "      let quickchartButtonEl =\n",
              "        document.querySelector('#df-b5cb87b5-aac9-4c1e-9aa2-d443600f749e button');\n",
              "      quickchartButtonEl.style.display =\n",
              "        google.colab.kernel.accessAllowed ? 'block' : 'none';\n",
              "    })();\n",
              "  </script>\n",
              "</div>\n",
              "\n",
              "  <div id=\"id_ee044324-baa0-4bd4-a8e9-30fee5110e06\">\n",
              "    <style>\n",
              "      .colab-df-generate {\n",
              "        background-color: #E8F0FE;\n",
              "        border: none;\n",
              "        border-radius: 50%;\n",
              "        cursor: pointer;\n",
              "        display: none;\n",
              "        fill: #1967D2;\n",
              "        height: 32px;\n",
              "        padding: 0 0 0 0;\n",
              "        width: 32px;\n",
              "      }\n",
              "\n",
              "      .colab-df-generate:hover {\n",
              "        background-color: #E2EBFA;\n",
              "        box-shadow: 0px 1px 2px rgba(60, 64, 67, 0.3), 0px 1px 3px 1px rgba(60, 64, 67, 0.15);\n",
              "        fill: #174EA6;\n",
              "      }\n",
              "\n",
              "      [theme=dark] .colab-df-generate {\n",
              "        background-color: #3B4455;\n",
              "        fill: #D2E3FC;\n",
              "      }\n",
              "\n",
              "      [theme=dark] .colab-df-generate:hover {\n",
              "        background-color: #434B5C;\n",
              "        box-shadow: 0px 1px 3px 1px rgba(0, 0, 0, 0.15);\n",
              "        filter: drop-shadow(0px 1px 2px rgba(0, 0, 0, 0.3));\n",
              "        fill: #FFFFFF;\n",
              "      }\n",
              "    </style>\n",
              "    <button class=\"colab-df-generate\" onclick=\"generateWithVariable('new_df')\"\n",
              "            title=\"Generate code using this dataframe.\"\n",
              "            style=\"display:none;\">\n",
              "\n",
              "  <svg xmlns=\"http://www.w3.org/2000/svg\" height=\"24px\"viewBox=\"0 0 24 24\"\n",
              "       width=\"24px\">\n",
              "    <path d=\"M7,19H8.4L18.45,9,17,7.55,7,17.6ZM5,21V16.75L18.45,3.32a2,2,0,0,1,2.83,0l1.4,1.43a1.91,1.91,0,0,1,.58,1.4,1.91,1.91,0,0,1-.58,1.4L9.25,21ZM18.45,9,17,7.55Zm-12,3A5.31,5.31,0,0,0,4.9,8.1,5.31,5.31,0,0,0,1,6.5,5.31,5.31,0,0,0,4.9,4.9,5.31,5.31,0,0,0,6.5,1,5.31,5.31,0,0,0,8.1,4.9,5.31,5.31,0,0,0,12,6.5,5.46,5.46,0,0,0,6.5,12Z\"/>\n",
              "  </svg>\n",
              "    </button>\n",
              "    <script>\n",
              "      (() => {\n",
              "      const buttonEl =\n",
              "        document.querySelector('#id_ee044324-baa0-4bd4-a8e9-30fee5110e06 button.colab-df-generate');\n",
              "      buttonEl.style.display =\n",
              "        google.colab.kernel.accessAllowed ? 'block' : 'none';\n",
              "\n",
              "      buttonEl.onclick = () => {\n",
              "        google.colab.notebook.generateWithVariable('new_df');\n",
              "      }\n",
              "      })();\n",
              "    </script>\n",
              "  </div>\n",
              "\n",
              "    </div>\n",
              "  </div>\n"
            ],
            "application/vnd.google.colaboratory.intrinsic+json": {
              "type": "dataframe",
              "variable_name": "new_df",
              "summary": "{\n  \"name\": \"new_df\",\n  \"rows\": 79075,\n  \"fields\": [\n    {\n      \"column\": \"label\",\n      \"properties\": {\n        \"dtype\": \"number\",\n        \"std\": 0,\n        \"min\": 0,\n        \"max\": 1,\n        \"num_unique_values\": 2,\n        \"samples\": [\n          1,\n          0\n        ],\n        \"semantic_type\": \"\",\n        \"description\": \"\"\n      }\n    },\n    {\n      \"column\": \"text\",\n      \"properties\": {\n        \"dtype\": \"string\",\n        \"num_unique_values\": 79074,\n        \"samples\": [\n          \"don\\u0092t miss an excellent opportunity to buy high quality drugs for a half price canadianpharmacy has announced great discounts for all products canadianpharmacy is your choice when you're looking for the place to buy products in a safe and confidential way full range of escapenumber generic products which are available to order online prompt delivery personal approach excellent service we are here for you to live a healthier and happier life http evereight hk\",\n          \" escapenumber content type text plain content transfer encoding quoted printable descapenumber fescapenumber be bescapenumber bescapenumber cescapenumber bescapenumber ab cb be cescapenumber ec bescapenumber bc bescapenumber ba descapenumber fescapenumber cescapenumber cb be ad cescapenumber ed aescapenumber af bescapenumber cescapenumber ce fescapenumber cescapenumber fa cescapenumber cescapenumber ba cescapenumber ce descapenumber ca cescapenumber cescapenumber ee db da ca descapenumber bescapenumber db bb aa ca bescapenumber descapenumber bescapenumber descapenumber descapenumber cf de bescapenumber ab cb be bescapenumber cescapenumber aescapenumber ac descapenumber cescapenumber descapenumber da ce descapenumber cb be ca cescapenumber bescapenumber fc cb bescapenumber cescapenumber fescapenumber descapenumber bescapenumber aescapenumber ac cf descapenumber descapenumber descapenumber descapenumber bb bescapenumber bf bescapenumber descapenumber bescapenumber aescapenumber cescapenumber bescapenumber bf cescapenumber descapenumber descapenumber descapenumber cescapenumber bb dd bescapenumber fa bf aa aescapenumber ba descapenumber fescapenumber descapenumber bescapenumber cb bescapenumber aescapenumber aescapenumber ba aescapenumber bescapenumber descapenumber bd cescapenumber bf ee ca eescapenumber aescapenumber aescapenumber cescapenumber descapenumber cd aescapenumber cescapenumber cc cescapenumber bescapenumber cf fa ca db bescapenumber aescapenumber cescapenumber bescapenumber aescapenumber bb bescapenumber descapenumber cb bescapenumber aescapenumber ac bd aescapenumber descapenumber fe bescapenumber bescapenumber descapenumber bescapenumber aescapenumber aescapenumber descapenumber cb ca eescapenumber aescapenumber aescapenumber bescapenumber eescapenumber bescapenumber eescapenumber aescapenumber aescapenumber bescapenumber fe ce fescapenumber descapenumber bescapenumber aescapenumber aescapenumber descapenumber cescapenumber descapenumber af ba cd bescapenumber aescapenumber bescapenumber ee bescapenumber aescapenumber cescapenumber bescapenumber bescapenumber cescapenumber aescapenumber bb ce descapenumber cb be descapenumber descapenumber bescapenumber cf descapenumber cescapenumber aescapenumber bb bescapenumber bescapenumber descapenumber cescapenumber aescapenumber bb descapenumber cescapenumber bb dd aescapenumber bb cescapenumber fa descapenumber eescapenumber aescapenumber bb ce aa descapenumber da descapenumber bc aescapenumber aescapenumber cescapenumber eescapenumber bescapenumber fb bescapenumber fescapenumber cb be descapenumber da bescapenumber aescapenumber cescapenumber bescapenumber bescapenumber bd cescapenumber eescapenumber descapenumber descapenumber cescapenumber ce ba ce descapenumber cescapenumber cescapenumber cescapenumber aescapenumber ac bf cescapenumber cescapenumber cf cd fescapenumber bescapenumber eescapenumber descapenumber af bb fescapenumber ce descapenumber cb be cescapenumber cb descapenumber bescapenumber descapenumber eb bescapenumber fescapenumber cb be cescapenumber cb descapenumber bescapenumber cescapenumber aescapenumber cb bescapenumber ce fescapenumber cescapenumber bescapenumber bescapenumber aescapenumber cescapenumber bescapenumber bf cescapenumber be ad bescapenumber fescapenumber cb be cescapenumber bescapenumber cescapenumber cf ba fescapenumber bescapenumber cescapenumber bescapenumber bescapenumber bf ee aescapenumber aescapenumber descapenumber aescapenumber aescapenumber ba bescapenumber fescapenumber bescapenumber ab cb be cescapenumber fa descapenumber eescapenumber descapenumber cb cescapenumber aescapenumber cescapenumber ee bescapenumber aa bescapenumber aescapenumber descapenumber bescapenumber descapenumber bescapenumber bc aescapenumber descapenumber fescapenumber descapenumber fescapenumber cescapenumber descapenumber cescapenumber cf bb bescapenumber descapenumber ad cescapenumber bescapenumber bescapenumber eescapenumber descapenumber cescapenumber descapenumber af aescapenumber ba cescapenumber aa cf bescapenumber cescapenumber cb aescapenumber ba cescapenumber fescapenumber cf fescapenumber descapenumber fescapenumber bescapenumber eescapenumber bb bescapenumber aescapenumber baescapenumber\"\n        ],\n        \"semantic_type\": \"\",\n        \"description\": \"\"\n      }\n    }\n  ]\n}"
            }
          },
          "metadata": {},
          "execution_count": 8
        }
      ]
    },
    {
      "cell_type": "code",
      "source": [
        "new_df.shape"
      ],
      "metadata": {
        "execution": {
          "iopub.status.busy": "2024-07-14T10:19:34.601187Z",
          "iopub.status.idle": "2024-07-14T10:19:34.601607Z",
          "shell.execute_reply.started": "2024-07-14T10:19:34.601391Z",
          "shell.execute_reply": "2024-07-14T10:19:34.601407Z"
        },
        "trusted": true,
        "id": "-CwTrYt1wc13",
        "outputId": "e452a374-ad06-479b-9018-a3d8a44ad604",
        "colab": {
          "base_uri": "https://localhost:8080/"
        }
      },
      "execution_count": null,
      "outputs": [
        {
          "output_type": "execute_result",
          "data": {
            "text/plain": [
              "(79075, 2)"
            ]
          },
          "metadata": {},
          "execution_count": 9
        }
      ]
    },
    {
      "cell_type": "markdown",
      "source": [
        "## **Splitting the data in features and targets**"
      ],
      "metadata": {
        "id": "Zbkqkagawc14"
      }
    },
    {
      "cell_type": "code",
      "source": [
        "#The dataset has two columns text will be features (X) and label will be target (Y)\n",
        "X = new_df['text']\n",
        "Y = new_df['label']"
      ],
      "metadata": {
        "execution": {
          "iopub.status.busy": "2024-07-14T10:19:34.608739Z",
          "iopub.status.idle": "2024-07-14T10:19:34.609302Z",
          "shell.execute_reply.started": "2024-07-14T10:19:34.609033Z",
          "shell.execute_reply": "2024-07-14T10:19:34.609054Z"
        },
        "trusted": true,
        "id": "fmfQPGpOwc14"
      },
      "execution_count": null,
      "outputs": []
    },
    {
      "cell_type": "code",
      "source": [
        "X.head()"
      ],
      "metadata": {
        "execution": {
          "iopub.status.busy": "2024-07-14T10:19:34.611028Z",
          "iopub.status.idle": "2024-07-14T10:19:34.611617Z",
          "shell.execute_reply.started": "2024-07-14T10:19:34.61132Z",
          "shell.execute_reply": "2024-07-14T10:19:34.611343Z"
        },
        "trusted": true,
        "id": "n_NNSquXwc14",
        "outputId": "b1460f16-e848-44c5-ad78-714baf8c4039",
        "colab": {
          "base_uri": "https://localhost:8080/"
        }
      },
      "execution_count": null,
      "outputs": [
        {
          "output_type": "execute_result",
          "data": {
            "text/plain": [
              "2     computer connection from cnn com wednesday es...\n",
              "4    thanks for all your answers guys i know i shou...\n",
              "5    larry king live at escapenumber escapenumber p...\n",
              "6    michael pobega wrote i'm not sure if it's the ...\n",
              "7    hi i have this error tr sample escapenumber es...\n",
              "Name: text, dtype: object"
            ]
          },
          "metadata": {},
          "execution_count": 11
        }
      ]
    },
    {
      "cell_type": "code",
      "source": [
        "Y.head()"
      ],
      "metadata": {
        "execution": {
          "iopub.status.busy": "2024-07-14T10:19:34.613373Z",
          "iopub.status.idle": "2024-07-14T10:19:34.613889Z",
          "shell.execute_reply.started": "2024-07-14T10:19:34.613616Z",
          "shell.execute_reply": "2024-07-14T10:19:34.613633Z"
        },
        "trusted": true,
        "id": "aQBPtEl2wc14",
        "outputId": "149cc364-c565-4365-9c1d-66db4d77d0eb",
        "colab": {
          "base_uri": "https://localhost:8080/"
        }
      },
      "execution_count": null,
      "outputs": [
        {
          "output_type": "execute_result",
          "data": {
            "text/plain": [
              "2    0\n",
              "4    0\n",
              "5    0\n",
              "6    0\n",
              "7    0\n",
              "Name: label, dtype: int64"
            ]
          },
          "metadata": {},
          "execution_count": 12
        }
      ]
    },
    {
      "cell_type": "markdown",
      "source": [
        "## **Splitting the data into training and testing data**"
      ],
      "metadata": {
        "id": "nejPDe2Ywc14"
      }
    },
    {
      "cell_type": "code",
      "source": [
        "#using train test split from sklearn\n",
        "X_train, X_test, Y_train, Y_test = train_test_split(X, Y, test_size=0.2, stratify=Y, random_state=2)"
      ],
      "metadata": {
        "execution": {
          "iopub.status.busy": "2024-07-14T10:19:34.615364Z",
          "iopub.status.idle": "2024-07-14T10:19:34.615797Z",
          "shell.execute_reply.started": "2024-07-14T10:19:34.615606Z",
          "shell.execute_reply": "2024-07-14T10:19:34.615625Z"
        },
        "trusted": true,
        "id": "xeo5wY-Kwc14"
      },
      "execution_count": null,
      "outputs": []
    },
    {
      "cell_type": "code",
      "source": [
        "X_train.shape"
      ],
      "metadata": {
        "execution": {
          "iopub.status.busy": "2024-07-14T10:19:34.617771Z",
          "iopub.status.idle": "2024-07-14T10:19:34.618171Z",
          "shell.execute_reply.started": "2024-07-14T10:19:34.617989Z",
          "shell.execute_reply": "2024-07-14T10:19:34.618006Z"
        },
        "trusted": true,
        "id": "zZtqroimwc14",
        "outputId": "abf2bcba-bc17-4bdd-c3be-c2951dec009d",
        "colab": {
          "base_uri": "https://localhost:8080/"
        }
      },
      "execution_count": null,
      "outputs": [
        {
          "output_type": "execute_result",
          "data": {
            "text/plain": [
              "(63260,)"
            ]
          },
          "metadata": {},
          "execution_count": 14
        }
      ]
    },
    {
      "cell_type": "code",
      "source": [
        "X_test.shape"
      ],
      "metadata": {
        "execution": {
          "iopub.status.busy": "2024-07-14T10:19:34.620413Z",
          "iopub.status.idle": "2024-07-14T10:19:34.620881Z",
          "shell.execute_reply.started": "2024-07-14T10:19:34.620677Z",
          "shell.execute_reply": "2024-07-14T10:19:34.620695Z"
        },
        "trusted": true,
        "id": "KyfKQ9aywc15",
        "outputId": "3b773d07-fd56-4455-baa6-8d67d6974961",
        "colab": {
          "base_uri": "https://localhost:8080/"
        }
      },
      "execution_count": null,
      "outputs": [
        {
          "output_type": "execute_result",
          "data": {
            "text/plain": [
              "(15815,)"
            ]
          },
          "metadata": {},
          "execution_count": 15
        }
      ]
    },
    {
      "cell_type": "code",
      "source": [
        "Y_train.shape"
      ],
      "metadata": {
        "execution": {
          "iopub.status.busy": "2024-07-14T10:19:34.622333Z",
          "iopub.status.idle": "2024-07-14T10:19:34.622757Z",
          "shell.execute_reply.started": "2024-07-14T10:19:34.622569Z",
          "shell.execute_reply": "2024-07-14T10:19:34.622588Z"
        },
        "trusted": true,
        "id": "b2tugPuKwc15",
        "outputId": "894c06a6-dfcd-4096-8314-f2359787ea8d",
        "colab": {
          "base_uri": "https://localhost:8080/"
        }
      },
      "execution_count": null,
      "outputs": [
        {
          "output_type": "execute_result",
          "data": {
            "text/plain": [
              "(63260,)"
            ]
          },
          "metadata": {},
          "execution_count": 16
        }
      ]
    },
    {
      "cell_type": "code",
      "source": [
        "Y_test.shape"
      ],
      "metadata": {
        "execution": {
          "iopub.status.busy": "2024-07-14T10:19:34.62426Z",
          "iopub.status.idle": "2024-07-14T10:19:34.62482Z",
          "shell.execute_reply.started": "2024-07-14T10:19:34.624547Z",
          "shell.execute_reply": "2024-07-14T10:19:34.62457Z"
        },
        "trusted": true,
        "id": "YQSvw0PRwc15",
        "outputId": "0067b52c-fa5c-4130-caba-e07422cfe830",
        "colab": {
          "base_uri": "https://localhost:8080/"
        }
      },
      "execution_count": null,
      "outputs": [
        {
          "output_type": "execute_result",
          "data": {
            "text/plain": [
              "(15815,)"
            ]
          },
          "metadata": {},
          "execution_count": 17
        }
      ]
    },
    {
      "cell_type": "markdown",
      "source": [
        "## **Convert the text data into numerical data**"
      ],
      "metadata": {
        "id": "45iZG4Ilwc14"
      }
    },
    {
      "cell_type": "code",
      "source": [
        "feature_extraction = TfidfVectorizer(min_df = 2, stop_words='english', lowercase=True)"
      ],
      "metadata": {
        "id": "Nk3AULciz00R"
      },
      "execution_count": null,
      "outputs": []
    },
    {
      "cell_type": "code",
      "source": [
        "X_train_features = feature_extraction.fit_transform(X_train)\n",
        "X_test_features = feature_extraction.transform(X_test)"
      ],
      "metadata": {
        "id": "NFObw95k0BzS"
      },
      "execution_count": null,
      "outputs": []
    },
    {
      "cell_type": "code",
      "source": [
        "Y_train = Y_train.astype('int')\n",
        "Y_test = Y_test.astype('int')"
      ],
      "metadata": {
        "id": "GBqhPCxN0yk7"
      },
      "execution_count": null,
      "outputs": []
    },
    {
      "cell_type": "code",
      "source": [
        "print(X_train_features)"
      ],
      "metadata": {
        "id": "-pxqMslr1Dyw",
        "outputId": "54cf2d44-e4ea-44db-a5dc-79ba898d38a9",
        "colab": {
          "base_uri": "https://localhost:8080/"
        }
      },
      "execution_count": null,
      "outputs": [
        {
          "output_type": "stream",
          "name": "stdout",
          "text": [
            "  (0, 102253)\t0.03568222596411488\n",
            "  (0, 79858)\t0.041799804993315266\n",
            "  (0, 1747)\t0.06130607350972955\n",
            "  (0, 172)\t0.059947824368614636\n",
            "  (0, 1878)\t0.053134608386872784\n",
            "  (0, 98920)\t0.07460120052173388\n",
            "  (0, 19989)\t0.08995711487864677\n",
            "  (0, 1390)\t0.05932686120125304\n",
            "  (0, 296)\t0.06442425212029491\n",
            "  (0, 59568)\t0.34245581972628536\n",
            "  (0, 103494)\t0.4138728730799779\n",
            "  (0, 2611)\t0.07466895319581561\n",
            "  (0, 342)\t0.06158676200402207\n",
            "  (0, 1300)\t0.15132193050662865\n",
            "  (0, 1933)\t0.18832635601282738\n",
            "  (0, 380)\t0.18861539024027865\n",
            "  (0, 36557)\t0.30742911555978486\n",
            "  (0, 38993)\t0.24940249952578422\n",
            "  (0, 32820)\t0.3142091440549812\n",
            "  (0, 61921)\t0.3104046548099834\n",
            "  (0, 43344)\t0.05346032298346717\n",
            "  (0, 0)\t0.10553265881244119\n",
            "  (0, 102219)\t0.05280775429114744\n",
            "  (0, 1037)\t0.06057505901006655\n",
            "  (0, 72532)\t0.06709568735521936\n",
            "  :\t:\n",
            "  (63258, 73761)\t0.1797251491813461\n",
            "  (63258, 96525)\t0.16391106246396897\n",
            "  (63258, 90972)\t0.08252739159220897\n",
            "  (63258, 103514)\t0.07474353133933621\n",
            "  (63258, 74347)\t0.07809735082118013\n",
            "  (63258, 28425)\t0.06464880444567876\n",
            "  (63258, 37509)\t0.3336386908107282\n",
            "  (63259, 11543)\t0.33121766365148564\n",
            "  (63259, 11540)\t0.31311234456696013\n",
            "  (63259, 94232)\t0.262587083783748\n",
            "  (63259, 40011)\t0.2620095288793432\n",
            "  (63259, 86666)\t0.21251208684090878\n",
            "  (63259, 46613)\t0.28334008213551365\n",
            "  (63259, 51308)\t0.2313179549163342\n",
            "  (63259, 8039)\t0.19935378489675093\n",
            "  (63259, 17405)\t0.20796899462996785\n",
            "  (63259, 71328)\t0.1492239432520526\n",
            "  (63259, 49674)\t0.2924151260793573\n",
            "  (63259, 38112)\t0.2760743601170867\n",
            "  (63259, 81731)\t0.13940491035913696\n",
            "  (63259, 101000)\t0.1894454363476579\n",
            "  (63259, 18857)\t0.24314116455987508\n",
            "  (63259, 46752)\t0.16454985066027986\n",
            "  (63259, 28425)\t0.1302807271044085\n",
            "  (63259, 37509)\t0.22411701500996067\n"
          ]
        }
      ]
    },
    {
      "cell_type": "markdown",
      "source": [
        "## **Model Learning**"
      ],
      "metadata": {
        "id": "DpKRo1QFwc15"
      }
    },
    {
      "cell_type": "markdown",
      "source": [
        "### *Logistic Regression*"
      ],
      "metadata": {
        "id": "pNtSzIfHwc15"
      }
    },
    {
      "cell_type": "code",
      "source": [
        "model = LogisticRegression()\n"
      ],
      "metadata": {
        "execution": {
          "iopub.status.busy": "2024-07-14T10:19:34.626587Z",
          "iopub.status.idle": "2024-07-14T10:19:34.62698Z",
          "shell.execute_reply.started": "2024-07-14T10:19:34.626797Z",
          "shell.execute_reply": "2024-07-14T10:19:34.626813Z"
        },
        "trusted": true,
        "id": "iITbmH4fwc15"
      },
      "execution_count": null,
      "outputs": []
    },
    {
      "cell_type": "code",
      "source": [
        "#training the logistic regression model with training data\n",
        "model.fit(X_train_features, Y_train)"
      ],
      "metadata": {
        "execution": {
          "iopub.status.busy": "2024-07-14T10:19:34.628543Z",
          "iopub.status.idle": "2024-07-14T10:19:34.629081Z",
          "shell.execute_reply.started": "2024-07-14T10:19:34.62881Z",
          "shell.execute_reply": "2024-07-14T10:19:34.628832Z"
        },
        "trusted": true,
        "id": "dIFNdYPRwc15",
        "outputId": "f46d13a7-458e-414b-c8f6-a9e9ceccf3e6",
        "colab": {
          "base_uri": "https://localhost:8080/",
          "height": 74
        }
      },
      "execution_count": null,
      "outputs": [
        {
          "output_type": "execute_result",
          "data": {
            "text/plain": [
              "LogisticRegression()"
            ],
            "text/html": [
              "<style>#sk-container-id-1 {color: black;background-color: white;}#sk-container-id-1 pre{padding: 0;}#sk-container-id-1 div.sk-toggleable {background-color: white;}#sk-container-id-1 label.sk-toggleable__label {cursor: pointer;display: block;width: 100%;margin-bottom: 0;padding: 0.3em;box-sizing: border-box;text-align: center;}#sk-container-id-1 label.sk-toggleable__label-arrow:before {content: \"▸\";float: left;margin-right: 0.25em;color: #696969;}#sk-container-id-1 label.sk-toggleable__label-arrow:hover:before {color: black;}#sk-container-id-1 div.sk-estimator:hover label.sk-toggleable__label-arrow:before {color: black;}#sk-container-id-1 div.sk-toggleable__content {max-height: 0;max-width: 0;overflow: hidden;text-align: left;background-color: #f0f8ff;}#sk-container-id-1 div.sk-toggleable__content pre {margin: 0.2em;color: black;border-radius: 0.25em;background-color: #f0f8ff;}#sk-container-id-1 input.sk-toggleable__control:checked~div.sk-toggleable__content {max-height: 200px;max-width: 100%;overflow: auto;}#sk-container-id-1 input.sk-toggleable__control:checked~label.sk-toggleable__label-arrow:before {content: \"▾\";}#sk-container-id-1 div.sk-estimator input.sk-toggleable__control:checked~label.sk-toggleable__label {background-color: #d4ebff;}#sk-container-id-1 div.sk-label input.sk-toggleable__control:checked~label.sk-toggleable__label {background-color: #d4ebff;}#sk-container-id-1 input.sk-hidden--visually {border: 0;clip: rect(1px 1px 1px 1px);clip: rect(1px, 1px, 1px, 1px);height: 1px;margin: -1px;overflow: hidden;padding: 0;position: absolute;width: 1px;}#sk-container-id-1 div.sk-estimator {font-family: monospace;background-color: #f0f8ff;border: 1px dotted black;border-radius: 0.25em;box-sizing: border-box;margin-bottom: 0.5em;}#sk-container-id-1 div.sk-estimator:hover {background-color: #d4ebff;}#sk-container-id-1 div.sk-parallel-item::after {content: \"\";width: 100%;border-bottom: 1px solid gray;flex-grow: 1;}#sk-container-id-1 div.sk-label:hover label.sk-toggleable__label {background-color: #d4ebff;}#sk-container-id-1 div.sk-serial::before {content: \"\";position: absolute;border-left: 1px solid gray;box-sizing: border-box;top: 0;bottom: 0;left: 50%;z-index: 0;}#sk-container-id-1 div.sk-serial {display: flex;flex-direction: column;align-items: center;background-color: white;padding-right: 0.2em;padding-left: 0.2em;position: relative;}#sk-container-id-1 div.sk-item {position: relative;z-index: 1;}#sk-container-id-1 div.sk-parallel {display: flex;align-items: stretch;justify-content: center;background-color: white;position: relative;}#sk-container-id-1 div.sk-item::before, #sk-container-id-1 div.sk-parallel-item::before {content: \"\";position: absolute;border-left: 1px solid gray;box-sizing: border-box;top: 0;bottom: 0;left: 50%;z-index: -1;}#sk-container-id-1 div.sk-parallel-item {display: flex;flex-direction: column;z-index: 1;position: relative;background-color: white;}#sk-container-id-1 div.sk-parallel-item:first-child::after {align-self: flex-end;width: 50%;}#sk-container-id-1 div.sk-parallel-item:last-child::after {align-self: flex-start;width: 50%;}#sk-container-id-1 div.sk-parallel-item:only-child::after {width: 0;}#sk-container-id-1 div.sk-dashed-wrapped {border: 1px dashed gray;margin: 0 0.4em 0.5em 0.4em;box-sizing: border-box;padding-bottom: 0.4em;background-color: white;}#sk-container-id-1 div.sk-label label {font-family: monospace;font-weight: bold;display: inline-block;line-height: 1.2em;}#sk-container-id-1 div.sk-label-container {text-align: center;}#sk-container-id-1 div.sk-container {/* jupyter's `normalize.less` sets `[hidden] { display: none; }` but bootstrap.min.css set `[hidden] { display: none !important; }` so we also need the `!important` here to be able to override the default hidden behavior on the sphinx rendered scikit-learn.org. See: https://github.com/scikit-learn/scikit-learn/issues/21755 */display: inline-block !important;position: relative;}#sk-container-id-1 div.sk-text-repr-fallback {display: none;}</style><div id=\"sk-container-id-1\" class=\"sk-top-container\"><div class=\"sk-text-repr-fallback\"><pre>LogisticRegression()</pre><b>In a Jupyter environment, please rerun this cell to show the HTML representation or trust the notebook. <br />On GitHub, the HTML representation is unable to render, please try loading this page with nbviewer.org.</b></div><div class=\"sk-container\" hidden><div class=\"sk-item\"><div class=\"sk-estimator sk-toggleable\"><input class=\"sk-toggleable__control sk-hidden--visually\" id=\"sk-estimator-id-1\" type=\"checkbox\" checked><label for=\"sk-estimator-id-1\" class=\"sk-toggleable__label sk-toggleable__label-arrow\">LogisticRegression</label><div class=\"sk-toggleable__content\"><pre>LogisticRegression()</pre></div></div></div></div></div>"
            ]
          },
          "metadata": {},
          "execution_count": 23
        }
      ]
    },
    {
      "cell_type": "markdown",
      "source": [
        "### *Multinomial NB*"
      ],
      "metadata": {
        "id": "BchvMOVMHBK4"
      }
    },
    {
      "cell_type": "code",
      "source": [
        "from sklearn.naive_bayes import MultinomialNB"
      ],
      "metadata": {
        "id": "uJO-xAn-Hs4E"
      },
      "execution_count": null,
      "outputs": []
    },
    {
      "cell_type": "code",
      "source": [
        "#create an instance of MultinomialNB classifier\n",
        "mnb = MultinomialNB()"
      ],
      "metadata": {
        "id": "E9DH8n72HyNF"
      },
      "execution_count": null,
      "outputs": []
    },
    {
      "cell_type": "code",
      "source": [
        "#train the model\n",
        "mnb.fit(X_train_features, Y_train)"
      ],
      "metadata": {
        "id": "8as8NGtAH6aR",
        "outputId": "4fbc9a01-d976-48d0-f396-498fc3ff9034",
        "colab": {
          "base_uri": "https://localhost:8080/",
          "height": 74
        }
      },
      "execution_count": null,
      "outputs": [
        {
          "output_type": "execute_result",
          "data": {
            "text/plain": [
              "MultinomialNB()"
            ],
            "text/html": [
              "<style>#sk-container-id-2 {color: black;background-color: white;}#sk-container-id-2 pre{padding: 0;}#sk-container-id-2 div.sk-toggleable {background-color: white;}#sk-container-id-2 label.sk-toggleable__label {cursor: pointer;display: block;width: 100%;margin-bottom: 0;padding: 0.3em;box-sizing: border-box;text-align: center;}#sk-container-id-2 label.sk-toggleable__label-arrow:before {content: \"▸\";float: left;margin-right: 0.25em;color: #696969;}#sk-container-id-2 label.sk-toggleable__label-arrow:hover:before {color: black;}#sk-container-id-2 div.sk-estimator:hover label.sk-toggleable__label-arrow:before {color: black;}#sk-container-id-2 div.sk-toggleable__content {max-height: 0;max-width: 0;overflow: hidden;text-align: left;background-color: #f0f8ff;}#sk-container-id-2 div.sk-toggleable__content pre {margin: 0.2em;color: black;border-radius: 0.25em;background-color: #f0f8ff;}#sk-container-id-2 input.sk-toggleable__control:checked~div.sk-toggleable__content {max-height: 200px;max-width: 100%;overflow: auto;}#sk-container-id-2 input.sk-toggleable__control:checked~label.sk-toggleable__label-arrow:before {content: \"▾\";}#sk-container-id-2 div.sk-estimator input.sk-toggleable__control:checked~label.sk-toggleable__label {background-color: #d4ebff;}#sk-container-id-2 div.sk-label input.sk-toggleable__control:checked~label.sk-toggleable__label {background-color: #d4ebff;}#sk-container-id-2 input.sk-hidden--visually {border: 0;clip: rect(1px 1px 1px 1px);clip: rect(1px, 1px, 1px, 1px);height: 1px;margin: -1px;overflow: hidden;padding: 0;position: absolute;width: 1px;}#sk-container-id-2 div.sk-estimator {font-family: monospace;background-color: #f0f8ff;border: 1px dotted black;border-radius: 0.25em;box-sizing: border-box;margin-bottom: 0.5em;}#sk-container-id-2 div.sk-estimator:hover {background-color: #d4ebff;}#sk-container-id-2 div.sk-parallel-item::after {content: \"\";width: 100%;border-bottom: 1px solid gray;flex-grow: 1;}#sk-container-id-2 div.sk-label:hover label.sk-toggleable__label {background-color: #d4ebff;}#sk-container-id-2 div.sk-serial::before {content: \"\";position: absolute;border-left: 1px solid gray;box-sizing: border-box;top: 0;bottom: 0;left: 50%;z-index: 0;}#sk-container-id-2 div.sk-serial {display: flex;flex-direction: column;align-items: center;background-color: white;padding-right: 0.2em;padding-left: 0.2em;position: relative;}#sk-container-id-2 div.sk-item {position: relative;z-index: 1;}#sk-container-id-2 div.sk-parallel {display: flex;align-items: stretch;justify-content: center;background-color: white;position: relative;}#sk-container-id-2 div.sk-item::before, #sk-container-id-2 div.sk-parallel-item::before {content: \"\";position: absolute;border-left: 1px solid gray;box-sizing: border-box;top: 0;bottom: 0;left: 50%;z-index: -1;}#sk-container-id-2 div.sk-parallel-item {display: flex;flex-direction: column;z-index: 1;position: relative;background-color: white;}#sk-container-id-2 div.sk-parallel-item:first-child::after {align-self: flex-end;width: 50%;}#sk-container-id-2 div.sk-parallel-item:last-child::after {align-self: flex-start;width: 50%;}#sk-container-id-2 div.sk-parallel-item:only-child::after {width: 0;}#sk-container-id-2 div.sk-dashed-wrapped {border: 1px dashed gray;margin: 0 0.4em 0.5em 0.4em;box-sizing: border-box;padding-bottom: 0.4em;background-color: white;}#sk-container-id-2 div.sk-label label {font-family: monospace;font-weight: bold;display: inline-block;line-height: 1.2em;}#sk-container-id-2 div.sk-label-container {text-align: center;}#sk-container-id-2 div.sk-container {/* jupyter's `normalize.less` sets `[hidden] { display: none; }` but bootstrap.min.css set `[hidden] { display: none !important; }` so we also need the `!important` here to be able to override the default hidden behavior on the sphinx rendered scikit-learn.org. See: https://github.com/scikit-learn/scikit-learn/issues/21755 */display: inline-block !important;position: relative;}#sk-container-id-2 div.sk-text-repr-fallback {display: none;}</style><div id=\"sk-container-id-2\" class=\"sk-top-container\"><div class=\"sk-text-repr-fallback\"><pre>MultinomialNB()</pre><b>In a Jupyter environment, please rerun this cell to show the HTML representation or trust the notebook. <br />On GitHub, the HTML representation is unable to render, please try loading this page with nbviewer.org.</b></div><div class=\"sk-container\" hidden><div class=\"sk-item\"><div class=\"sk-estimator sk-toggleable\"><input class=\"sk-toggleable__control sk-hidden--visually\" id=\"sk-estimator-id-2\" type=\"checkbox\" checked><label for=\"sk-estimator-id-2\" class=\"sk-toggleable__label sk-toggleable__label-arrow\">MultinomialNB</label><div class=\"sk-toggleable__content\"><pre>MultinomialNB()</pre></div></div></div></div></div>"
            ]
          },
          "metadata": {},
          "execution_count": 26
        }
      ]
    },
    {
      "cell_type": "markdown",
      "source": [
        "## **Model Evaluation**"
      ],
      "metadata": {
        "id": "zIGi4cjp15q9"
      }
    },
    {
      "cell_type": "markdown",
      "source": [
        "### *Logistic Regression*"
      ],
      "metadata": {
        "id": "dKGft2D8HkZx"
      }
    },
    {
      "cell_type": "code",
      "source": [
        "#accuracy score on train data\n",
        "X_train_prediction = model.predict(X_train_features)\n",
        "training_data_accuracy = accuracy_score(Y_train, X_train_prediction)"
      ],
      "metadata": {
        "id": "NuKqJWSY18qF"
      },
      "execution_count": null,
      "outputs": []
    },
    {
      "cell_type": "code",
      "source": [
        "training_data_accuracy"
      ],
      "metadata": {
        "id": "1g_-ydsH2FFb",
        "outputId": "9abb0bbf-9adb-454d-d65d-831a17fcca02",
        "colab": {
          "base_uri": "https://localhost:8080/"
        }
      },
      "execution_count": null,
      "outputs": [
        {
          "output_type": "execute_result",
          "data": {
            "text/plain": [
              "0.9901201391084413"
            ]
          },
          "metadata": {},
          "execution_count": 28
        }
      ]
    },
    {
      "cell_type": "code",
      "source": [
        "#accuracy on test data\n",
        "X_test_prediction = model.predict(X_test_features)\n",
        "test_data_accuracy = accuracy_score(Y_test, X_test_prediction)"
      ],
      "metadata": {
        "id": "uIjwJfF62H9_"
      },
      "execution_count": null,
      "outputs": []
    },
    {
      "cell_type": "code",
      "source": [
        "test_data_accuracy"
      ],
      "metadata": {
        "id": "HnSa_cPv2MaS",
        "outputId": "0244b3d4-4696-48ee-9f1b-9c205dd3338a",
        "colab": {
          "base_uri": "https://localhost:8080/"
        }
      },
      "execution_count": null,
      "outputs": [
        {
          "output_type": "execute_result",
          "data": {
            "text/plain": [
              "0.9838128359152704"
            ]
          },
          "metadata": {},
          "execution_count": 30
        }
      ]
    },
    {
      "cell_type": "markdown",
      "source": [
        "### *MultinomialNB Classifier*"
      ],
      "metadata": {
        "id": "k2vbKl_uIVc8"
      }
    },
    {
      "cell_type": "code",
      "source": [
        "#make predictions on trained data\n",
        "mnb_predicton = mnb.predict(X_train_features)\n",
        "mnb_train_accuracy = accuracy_score(Y_train, mnb_predicton)"
      ],
      "metadata": {
        "id": "SerVROp0IZk4"
      },
      "execution_count": null,
      "outputs": []
    },
    {
      "cell_type": "code",
      "source": [
        "mnb_train_accuracy"
      ],
      "metadata": {
        "id": "tSkEpc_QIph7",
        "outputId": "e63cb7d5-55dc-444c-cf5d-940202ff78ba",
        "colab": {
          "base_uri": "https://localhost:8080/"
        }
      },
      "execution_count": null,
      "outputs": [
        {
          "output_type": "execute_result",
          "data": {
            "text/plain": [
              "0.9804457793234271"
            ]
          },
          "metadata": {},
          "execution_count": 32
        }
      ]
    },
    {
      "cell_type": "code",
      "source": [
        "#make predictions on test data and calculate accuracy score\n",
        "mnb_prediction = mnb.predict(X_test_features)\n",
        "mnb_test_accuracy = accuracy_score(Y_test, mnb_prediction)"
      ],
      "metadata": {
        "id": "OD1x1b3KIsJL"
      },
      "execution_count": null,
      "outputs": []
    },
    {
      "cell_type": "code",
      "source": [
        "mnb_test_accuracy"
      ],
      "metadata": {
        "id": "Gn3kQjCgI1ja",
        "outputId": "551f4bcc-1555-4bee-bc0b-3cd568aa3f1d",
        "colab": {
          "base_uri": "https://localhost:8080/"
        }
      },
      "execution_count": null,
      "outputs": [
        {
          "output_type": "execute_result",
          "data": {
            "text/plain": [
              "0.9712930761934871"
            ]
          },
          "metadata": {},
          "execution_count": 34
        }
      ]
    },
    {
      "cell_type": "markdown",
      "source": [
        "## **Prediction of email**"
      ],
      "metadata": {
        "id": "b_12fiMQ2sRR"
      }
    },
    {
      "cell_type": "code",
      "source": [
        "input_mail = [\"Greetings! Your ticket for 'Emily In Paris' has been booked for 9PM\",\n",
        "              \"StarsPwn has lunched a new game and we think you can be our testr. Click to dwnload th file\",\n",
        "              \"We recently suspected a malicious activity from this computer. Please clck on the below link to verify your authorization!\"]\n",
        "#convert the text to data\n",
        "input_data_features = feature_extraction.transform(input_mail)\n",
        "\n",
        "#making prediction on logistic model\n",
        "logistic_prediction = model.predict(input_data_features)\n",
        "\n",
        "#making prediction on multinomialNb classifier\n",
        "multinomial_prediction = mnb.predict(input_data_features)"
      ],
      "metadata": {
        "id": "sPVY1--S24CL"
      },
      "execution_count": null,
      "outputs": []
    },
    {
      "cell_type": "code",
      "source": [
        "logistic_prediction"
      ],
      "metadata": {
        "id": "Sq8RP_TR3rY6",
        "outputId": "54904434-96e3-4c0d-b787-78d4cd493061",
        "colab": {
          "base_uri": "https://localhost:8080/"
        }
      },
      "execution_count": null,
      "outputs": [
        {
          "output_type": "execute_result",
          "data": {
            "text/plain": [
              "array([1, 0, 1])"
            ]
          },
          "metadata": {},
          "execution_count": 36
        }
      ]
    },
    {
      "cell_type": "code",
      "source": [
        "multinomial_prediction"
      ],
      "metadata": {
        "id": "1fc6Kq_2JLEu",
        "outputId": "9deeb21a-cd49-41ae-ec41-cf6ac2ed1da3",
        "colab": {
          "base_uri": "https://localhost:8080/"
        }
      },
      "execution_count": null,
      "outputs": [
        {
          "output_type": "execute_result",
          "data": {
            "text/plain": [
              "array([0, 0, 1])"
            ]
          },
          "metadata": {},
          "execution_count": 37
        }
      ]
    },
    {
      "cell_type": "code",
      "source": [
        "for i in logistic_prediction:\n",
        "  if i==0:\n",
        "    print('Logistic Regression says: Ham')\n",
        "  else:\n",
        "    print('Logistic Regression says: Spam')\n",
        "\n",
        "print()\n",
        "\n",
        "for i in multinomial_prediction:\n",
        "  if i==0:\n",
        "    print('MultinomialNB says: Ham')\n",
        "  else:\n",
        "    print('MultinomialNB says: Spam')"
      ],
      "metadata": {
        "id": "CAQFrkg-3tuv",
        "outputId": "06bc658f-1b9b-46e4-dede-bfbc03d37904",
        "colab": {
          "base_uri": "https://localhost:8080/"
        }
      },
      "execution_count": null,
      "outputs": [
        {
          "output_type": "stream",
          "name": "stdout",
          "text": [
            "Logistic Regression says: Spam\n",
            "Logistic Regression says: Ham\n",
            "Logistic Regression says: Spam\n",
            "\n",
            "MultinomialNB says: Ham\n",
            "MultinomialNB says: Ham\n",
            "MultinomialNB says: Spam\n"
          ]
        }
      ]
    }
  ]
}